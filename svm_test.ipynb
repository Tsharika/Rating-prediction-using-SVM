{
  "cells": [
    {
      "cell_type": "markdown",
      "metadata": {
        "id": "KeTEO67wa4yq"
      },
      "source": [
        "This is a supervised machine learning model created for Intro To NLP course AIT526. I have created a basic implementation of SVM model creating a pipeline as a part of my project. Here are the steps:\n",
        "1. Data visualization\n",
        "2. Pre processing the data\n",
        "3. Performing TF-IDF vectorization\n",
        "4. Creating SVM model\n",
        "5. Cross validation\n",
        "6. Performance metrics\n",
        "7. Error analysis"
      ]
    },
    {
      "cell_type": "markdown",
      "source": [
        "**Step 01: Data visualization** In this stage, I am analyzing the features of the dataset and modify it according to my project requirements."
      ],
      "metadata": {
        "id": "qi_WWOiijxxc"
      }
    },
    {
      "cell_type": "markdown",
      "source": [
        "First, I am importing necessary libraries for my project"
      ],
      "metadata": {
        "id": "nm5T1gljAK65"
      }
    },
    {
      "cell_type": "code",
      "execution_count": 19,
      "metadata": {
        "id": "7VtdxtlBa9qj"
      },
      "outputs": [],
      "source": [
        "#Importing libraries \n",
        "import pandas as pd\n",
        "from sklearn.feature_extraction.text import CountVectorizer\n",
        "from sklearn.model_selection import train_test_split, KFold, cross_val_score\n",
        "from sklearn.svm import SVC\n",
        "from sklearn.pipeline import Pipeline\n",
        "from sklearn.feature_extraction.text import TfidfVectorizer\n",
        "from sklearn.model_selection import train_test_split\n",
        "from sklearn.svm import LinearSVC\n",
        "from sklearn.model_selection import cross_val_score\n",
        "from sklearn.metrics import classification_report\n",
        "from sklearn.metrics import confusion_matrix, roc_auc_score, roc_curve\n",
        "import matplotlib.pyplot as plt\n",
        "from tabulate import tabulate"
      ]
    },
    {
      "cell_type": "markdown",
      "source": [
        "After getting the required libraries, Now I am loading the dataset. It is an amazon review dataset based on beauty products. The dataset is collected from https://cseweb.ucsd.edu/~jmcauley/datasets.html#amazon_reviews\n",
        "\n",
        "The dataset is very large. For this project, we have selected random 10 thousand random data points from this dataset. "
      ],
      "metadata": {
        "id": "lDvnak8JjMb0"
      }
    },
    {
      "cell_type": "code",
      "execution_count": 20,
      "metadata": {
        "id": "8j4XS4vG614e"
      },
      "outputs": [],
      "source": [
        "# load the csv file\n",
        "data = pd.read_csv('/content/sample_data/Data.csv')"
      ]
    },
    {
      "cell_type": "code",
      "execution_count": 21,
      "metadata": {
        "id": "1TM3I4U27F_B",
        "colab": {
          "base_uri": "https://localhost:8080/",
          "height": 486
        },
        "outputId": "fb67469d-1c16-4eff-ff22-4bf3a7d15efe"
      },
      "outputs": [
        {
          "output_type": "execute_result",
          "data": {
            "text/plain": [
              "   Unnamed: 0   0         1               2           3          4  \\\n",
              "0           0  US  49831754   RLMKEGYR1J5RV  B000G0GW6K  787762150   \n",
              "1           1  US   8236225   RVGSM7UEB03Z8  B004HJ1798  922211650   \n",
              "2           2  US   4069021  R32XJXEPEQG0BO  B001N3P684  206189463   \n",
              "3           3  US  10835015  R27CGEI5FVAVTM  B007EQU3DC   34306879   \n",
              "4           4  US  13157724   REE0MWSR9KMEH  B00T546HD6  838726379   \n",
              "\n",
              "                                                   5       6  7  8  9 10 11  \\\n",
              "0  Panasonic(r) Es2216pc Ladies' Close Curves(r) ...  Beauty  5  0  0  N  Y   \n",
              "1  Onyx Professional Spray On Nail Dry w/ Island ...  Beauty  3  4  5  N  Y   \n",
              "2                         Ped Egg Pedicure Foot File  Beauty  4  0  0  N  Y   \n",
              "3      1 OZ A+ Sacred Lotus Stamens Nelumbo nucifera  Beauty  5  5  6  N  Y   \n",
              "4  Psoriasis / Eczema Herbal Ointment - 100% All ...  Beauty  5  0  0  N  N   \n",
              "\n",
              "                                                  12  \\\n",
              "0                                             Shaver   \n",
              "1                                        Three Stars   \n",
              "2                                         Four Stars   \n",
              "3                                      great product   \n",
              "4  My oldest son has really bad eczema that flare...   \n",
              "\n",
              "                                                  13            14  \n",
              "0  Love this razor. I like the size and the fact ...  2013-05-03\\n  \n",
              "1           Doesn't seem to dry my nails any faster.  2015-08-05\\n  \n",
              "2                                just what we needed  2015-05-14\\n  \n",
              "3  This lotus is great. Good potency. My suggesti...  2014-06-06\\n  \n",
              "4  My oldest son has really bad eczema that flare...  2015-06-03\\n  "
            ],
            "text/html": [
              "\n",
              "  <div id=\"df-6df04ebc-a73d-4f66-b250-49a326fc9edb\">\n",
              "    <div class=\"colab-df-container\">\n",
              "      <div>\n",
              "<style scoped>\n",
              "    .dataframe tbody tr th:only-of-type {\n",
              "        vertical-align: middle;\n",
              "    }\n",
              "\n",
              "    .dataframe tbody tr th {\n",
              "        vertical-align: top;\n",
              "    }\n",
              "\n",
              "    .dataframe thead th {\n",
              "        text-align: right;\n",
              "    }\n",
              "</style>\n",
              "<table border=\"1\" class=\"dataframe\">\n",
              "  <thead>\n",
              "    <tr style=\"text-align: right;\">\n",
              "      <th></th>\n",
              "      <th>Unnamed: 0</th>\n",
              "      <th>0</th>\n",
              "      <th>1</th>\n",
              "      <th>2</th>\n",
              "      <th>3</th>\n",
              "      <th>4</th>\n",
              "      <th>5</th>\n",
              "      <th>6</th>\n",
              "      <th>7</th>\n",
              "      <th>8</th>\n",
              "      <th>9</th>\n",
              "      <th>10</th>\n",
              "      <th>11</th>\n",
              "      <th>12</th>\n",
              "      <th>13</th>\n",
              "      <th>14</th>\n",
              "    </tr>\n",
              "  </thead>\n",
              "  <tbody>\n",
              "    <tr>\n",
              "      <th>0</th>\n",
              "      <td>0</td>\n",
              "      <td>US</td>\n",
              "      <td>49831754</td>\n",
              "      <td>RLMKEGYR1J5RV</td>\n",
              "      <td>B000G0GW6K</td>\n",
              "      <td>787762150</td>\n",
              "      <td>Panasonic(r) Es2216pc Ladies' Close Curves(r) ...</td>\n",
              "      <td>Beauty</td>\n",
              "      <td>5</td>\n",
              "      <td>0</td>\n",
              "      <td>0</td>\n",
              "      <td>N</td>\n",
              "      <td>Y</td>\n",
              "      <td>Shaver</td>\n",
              "      <td>Love this razor. I like the size and the fact ...</td>\n",
              "      <td>2013-05-03\\n</td>\n",
              "    </tr>\n",
              "    <tr>\n",
              "      <th>1</th>\n",
              "      <td>1</td>\n",
              "      <td>US</td>\n",
              "      <td>8236225</td>\n",
              "      <td>RVGSM7UEB03Z8</td>\n",
              "      <td>B004HJ1798</td>\n",
              "      <td>922211650</td>\n",
              "      <td>Onyx Professional Spray On Nail Dry w/ Island ...</td>\n",
              "      <td>Beauty</td>\n",
              "      <td>3</td>\n",
              "      <td>4</td>\n",
              "      <td>5</td>\n",
              "      <td>N</td>\n",
              "      <td>Y</td>\n",
              "      <td>Three Stars</td>\n",
              "      <td>Doesn't seem to dry my nails any faster.</td>\n",
              "      <td>2015-08-05\\n</td>\n",
              "    </tr>\n",
              "    <tr>\n",
              "      <th>2</th>\n",
              "      <td>2</td>\n",
              "      <td>US</td>\n",
              "      <td>4069021</td>\n",
              "      <td>R32XJXEPEQG0BO</td>\n",
              "      <td>B001N3P684</td>\n",
              "      <td>206189463</td>\n",
              "      <td>Ped Egg Pedicure Foot File</td>\n",
              "      <td>Beauty</td>\n",
              "      <td>4</td>\n",
              "      <td>0</td>\n",
              "      <td>0</td>\n",
              "      <td>N</td>\n",
              "      <td>Y</td>\n",
              "      <td>Four Stars</td>\n",
              "      <td>just what we needed</td>\n",
              "      <td>2015-05-14\\n</td>\n",
              "    </tr>\n",
              "    <tr>\n",
              "      <th>3</th>\n",
              "      <td>3</td>\n",
              "      <td>US</td>\n",
              "      <td>10835015</td>\n",
              "      <td>R27CGEI5FVAVTM</td>\n",
              "      <td>B007EQU3DC</td>\n",
              "      <td>34306879</td>\n",
              "      <td>1 OZ A+ Sacred Lotus Stamens Nelumbo nucifera</td>\n",
              "      <td>Beauty</td>\n",
              "      <td>5</td>\n",
              "      <td>5</td>\n",
              "      <td>6</td>\n",
              "      <td>N</td>\n",
              "      <td>Y</td>\n",
              "      <td>great product</td>\n",
              "      <td>This lotus is great. Good potency. My suggesti...</td>\n",
              "      <td>2014-06-06\\n</td>\n",
              "    </tr>\n",
              "    <tr>\n",
              "      <th>4</th>\n",
              "      <td>4</td>\n",
              "      <td>US</td>\n",
              "      <td>13157724</td>\n",
              "      <td>REE0MWSR9KMEH</td>\n",
              "      <td>B00T546HD6</td>\n",
              "      <td>838726379</td>\n",
              "      <td>Psoriasis / Eczema Herbal Ointment - 100% All ...</td>\n",
              "      <td>Beauty</td>\n",
              "      <td>5</td>\n",
              "      <td>0</td>\n",
              "      <td>0</td>\n",
              "      <td>N</td>\n",
              "      <td>N</td>\n",
              "      <td>My oldest son has really bad eczema that flare...</td>\n",
              "      <td>My oldest son has really bad eczema that flare...</td>\n",
              "      <td>2015-06-03\\n</td>\n",
              "    </tr>\n",
              "  </tbody>\n",
              "</table>\n",
              "</div>\n",
              "      <button class=\"colab-df-convert\" onclick=\"convertToInteractive('df-6df04ebc-a73d-4f66-b250-49a326fc9edb')\"\n",
              "              title=\"Convert this dataframe to an interactive table.\"\n",
              "              style=\"display:none;\">\n",
              "        \n",
              "  <svg xmlns=\"http://www.w3.org/2000/svg\" height=\"24px\"viewBox=\"0 0 24 24\"\n",
              "       width=\"24px\">\n",
              "    <path d=\"M0 0h24v24H0V0z\" fill=\"none\"/>\n",
              "    <path d=\"M18.56 5.44l.94 2.06.94-2.06 2.06-.94-2.06-.94-.94-2.06-.94 2.06-2.06.94zm-11 1L8.5 8.5l.94-2.06 2.06-.94-2.06-.94L8.5 2.5l-.94 2.06-2.06.94zm10 10l.94 2.06.94-2.06 2.06-.94-2.06-.94-.94-2.06-.94 2.06-2.06.94z\"/><path d=\"M17.41 7.96l-1.37-1.37c-.4-.4-.92-.59-1.43-.59-.52 0-1.04.2-1.43.59L10.3 9.45l-7.72 7.72c-.78.78-.78 2.05 0 2.83L4 21.41c.39.39.9.59 1.41.59.51 0 1.02-.2 1.41-.59l7.78-7.78 2.81-2.81c.8-.78.8-2.07 0-2.86zM5.41 20L4 18.59l7.72-7.72 1.47 1.35L5.41 20z\"/>\n",
              "  </svg>\n",
              "      </button>\n",
              "      \n",
              "  <style>\n",
              "    .colab-df-container {\n",
              "      display:flex;\n",
              "      flex-wrap:wrap;\n",
              "      gap: 12px;\n",
              "    }\n",
              "\n",
              "    .colab-df-convert {\n",
              "      background-color: #E8F0FE;\n",
              "      border: none;\n",
              "      border-radius: 50%;\n",
              "      cursor: pointer;\n",
              "      display: none;\n",
              "      fill: #1967D2;\n",
              "      height: 32px;\n",
              "      padding: 0 0 0 0;\n",
              "      width: 32px;\n",
              "    }\n",
              "\n",
              "    .colab-df-convert:hover {\n",
              "      background-color: #E2EBFA;\n",
              "      box-shadow: 0px 1px 2px rgba(60, 64, 67, 0.3), 0px 1px 3px 1px rgba(60, 64, 67, 0.15);\n",
              "      fill: #174EA6;\n",
              "    }\n",
              "\n",
              "    [theme=dark] .colab-df-convert {\n",
              "      background-color: #3B4455;\n",
              "      fill: #D2E3FC;\n",
              "    }\n",
              "\n",
              "    [theme=dark] .colab-df-convert:hover {\n",
              "      background-color: #434B5C;\n",
              "      box-shadow: 0px 1px 3px 1px rgba(0, 0, 0, 0.15);\n",
              "      filter: drop-shadow(0px 1px 2px rgba(0, 0, 0, 0.3));\n",
              "      fill: #FFFFFF;\n",
              "    }\n",
              "  </style>\n",
              "\n",
              "      <script>\n",
              "        const buttonEl =\n",
              "          document.querySelector('#df-6df04ebc-a73d-4f66-b250-49a326fc9edb button.colab-df-convert');\n",
              "        buttonEl.style.display =\n",
              "          google.colab.kernel.accessAllowed ? 'block' : 'none';\n",
              "\n",
              "        async function convertToInteractive(key) {\n",
              "          const element = document.querySelector('#df-6df04ebc-a73d-4f66-b250-49a326fc9edb');\n",
              "          const dataTable =\n",
              "            await google.colab.kernel.invokeFunction('convertToInteractive',\n",
              "                                                     [key], {});\n",
              "          if (!dataTable) return;\n",
              "\n",
              "          const docLinkHtml = 'Like what you see? Visit the ' +\n",
              "            '<a target=\"_blank\" href=https://colab.research.google.com/notebooks/data_table.ipynb>data table notebook</a>'\n",
              "            + ' to learn more about interactive tables.';\n",
              "          element.innerHTML = '';\n",
              "          dataTable['output_type'] = 'display_data';\n",
              "          await google.colab.output.renderOutput(dataTable, element);\n",
              "          const docLink = document.createElement('div');\n",
              "          docLink.innerHTML = docLinkHtml;\n",
              "          element.appendChild(docLink);\n",
              "        }\n",
              "      </script>\n",
              "    </div>\n",
              "  </div>\n",
              "  "
            ]
          },
          "metadata": {},
          "execution_count": 21
        }
      ],
      "source": [
        "#Visualizing the initial data \n",
        "data.head()\n"
      ]
    },
    {
      "cell_type": "markdown",
      "source": [
        "Now, I am selecting the columns we need and extract them from the dataset creating a subset of the original data. The columns contains the information including user review and rating accordingly."
      ],
      "metadata": {
        "id": "KM6KEX7RHz7Y"
      }
    },
    {
      "cell_type": "code",
      "execution_count": 22,
      "metadata": {
        "id": "tOKK-N7l7Kyy"
      },
      "outputs": [],
      "source": [
        "# select the required columns\n",
        "new_data = data[['13', '7']]"
      ]
    },
    {
      "cell_type": "markdown",
      "source": [
        "Next step: Renaming the columns based on preference. "
      ],
      "metadata": {
        "id": "KG0AK4oqIiOr"
      }
    },
    {
      "cell_type": "code",
      "execution_count": 23,
      "metadata": {
        "colab": {
          "base_uri": "https://localhost:8080/",
          "height": 204
        },
        "id": "o9bpkhlI7fXC",
        "outputId": "f75ab36e-9f12-4751-f372-42af24a18f68"
      },
      "outputs": [
        {
          "output_type": "execute_result",
          "data": {
            "text/plain": [
              "                                              review  rating\n",
              "0  Love this razor. I like the size and the fact ...       5\n",
              "1           Doesn't seem to dry my nails any faster.       3\n",
              "2                                just what we needed       4\n",
              "3  This lotus is great. Good potency. My suggesti...       5\n",
              "4  My oldest son has really bad eczema that flare...       5"
            ],
            "text/html": [
              "\n",
              "  <div id=\"df-c0d6d6cf-c007-4216-a7c3-bc5cf168ff85\">\n",
              "    <div class=\"colab-df-container\">\n",
              "      <div>\n",
              "<style scoped>\n",
              "    .dataframe tbody tr th:only-of-type {\n",
              "        vertical-align: middle;\n",
              "    }\n",
              "\n",
              "    .dataframe tbody tr th {\n",
              "        vertical-align: top;\n",
              "    }\n",
              "\n",
              "    .dataframe thead th {\n",
              "        text-align: right;\n",
              "    }\n",
              "</style>\n",
              "<table border=\"1\" class=\"dataframe\">\n",
              "  <thead>\n",
              "    <tr style=\"text-align: right;\">\n",
              "      <th></th>\n",
              "      <th>review</th>\n",
              "      <th>rating</th>\n",
              "    </tr>\n",
              "  </thead>\n",
              "  <tbody>\n",
              "    <tr>\n",
              "      <th>0</th>\n",
              "      <td>Love this razor. I like the size and the fact ...</td>\n",
              "      <td>5</td>\n",
              "    </tr>\n",
              "    <tr>\n",
              "      <th>1</th>\n",
              "      <td>Doesn't seem to dry my nails any faster.</td>\n",
              "      <td>3</td>\n",
              "    </tr>\n",
              "    <tr>\n",
              "      <th>2</th>\n",
              "      <td>just what we needed</td>\n",
              "      <td>4</td>\n",
              "    </tr>\n",
              "    <tr>\n",
              "      <th>3</th>\n",
              "      <td>This lotus is great. Good potency. My suggesti...</td>\n",
              "      <td>5</td>\n",
              "    </tr>\n",
              "    <tr>\n",
              "      <th>4</th>\n",
              "      <td>My oldest son has really bad eczema that flare...</td>\n",
              "      <td>5</td>\n",
              "    </tr>\n",
              "  </tbody>\n",
              "</table>\n",
              "</div>\n",
              "      <button class=\"colab-df-convert\" onclick=\"convertToInteractive('df-c0d6d6cf-c007-4216-a7c3-bc5cf168ff85')\"\n",
              "              title=\"Convert this dataframe to an interactive table.\"\n",
              "              style=\"display:none;\">\n",
              "        \n",
              "  <svg xmlns=\"http://www.w3.org/2000/svg\" height=\"24px\"viewBox=\"0 0 24 24\"\n",
              "       width=\"24px\">\n",
              "    <path d=\"M0 0h24v24H0V0z\" fill=\"none\"/>\n",
              "    <path d=\"M18.56 5.44l.94 2.06.94-2.06 2.06-.94-2.06-.94-.94-2.06-.94 2.06-2.06.94zm-11 1L8.5 8.5l.94-2.06 2.06-.94-2.06-.94L8.5 2.5l-.94 2.06-2.06.94zm10 10l.94 2.06.94-2.06 2.06-.94-2.06-.94-.94-2.06-.94 2.06-2.06.94z\"/><path d=\"M17.41 7.96l-1.37-1.37c-.4-.4-.92-.59-1.43-.59-.52 0-1.04.2-1.43.59L10.3 9.45l-7.72 7.72c-.78.78-.78 2.05 0 2.83L4 21.41c.39.39.9.59 1.41.59.51 0 1.02-.2 1.41-.59l7.78-7.78 2.81-2.81c.8-.78.8-2.07 0-2.86zM5.41 20L4 18.59l7.72-7.72 1.47 1.35L5.41 20z\"/>\n",
              "  </svg>\n",
              "      </button>\n",
              "      \n",
              "  <style>\n",
              "    .colab-df-container {\n",
              "      display:flex;\n",
              "      flex-wrap:wrap;\n",
              "      gap: 12px;\n",
              "    }\n",
              "\n",
              "    .colab-df-convert {\n",
              "      background-color: #E8F0FE;\n",
              "      border: none;\n",
              "      border-radius: 50%;\n",
              "      cursor: pointer;\n",
              "      display: none;\n",
              "      fill: #1967D2;\n",
              "      height: 32px;\n",
              "      padding: 0 0 0 0;\n",
              "      width: 32px;\n",
              "    }\n",
              "\n",
              "    .colab-df-convert:hover {\n",
              "      background-color: #E2EBFA;\n",
              "      box-shadow: 0px 1px 2px rgba(60, 64, 67, 0.3), 0px 1px 3px 1px rgba(60, 64, 67, 0.15);\n",
              "      fill: #174EA6;\n",
              "    }\n",
              "\n",
              "    [theme=dark] .colab-df-convert {\n",
              "      background-color: #3B4455;\n",
              "      fill: #D2E3FC;\n",
              "    }\n",
              "\n",
              "    [theme=dark] .colab-df-convert:hover {\n",
              "      background-color: #434B5C;\n",
              "      box-shadow: 0px 1px 3px 1px rgba(0, 0, 0, 0.15);\n",
              "      filter: drop-shadow(0px 1px 2px rgba(0, 0, 0, 0.3));\n",
              "      fill: #FFFFFF;\n",
              "    }\n",
              "  </style>\n",
              "\n",
              "      <script>\n",
              "        const buttonEl =\n",
              "          document.querySelector('#df-c0d6d6cf-c007-4216-a7c3-bc5cf168ff85 button.colab-df-convert');\n",
              "        buttonEl.style.display =\n",
              "          google.colab.kernel.accessAllowed ? 'block' : 'none';\n",
              "\n",
              "        async function convertToInteractive(key) {\n",
              "          const element = document.querySelector('#df-c0d6d6cf-c007-4216-a7c3-bc5cf168ff85');\n",
              "          const dataTable =\n",
              "            await google.colab.kernel.invokeFunction('convertToInteractive',\n",
              "                                                     [key], {});\n",
              "          if (!dataTable) return;\n",
              "\n",
              "          const docLinkHtml = 'Like what you see? Visit the ' +\n",
              "            '<a target=\"_blank\" href=https://colab.research.google.com/notebooks/data_table.ipynb>data table notebook</a>'\n",
              "            + ' to learn more about interactive tables.';\n",
              "          element.innerHTML = '';\n",
              "          dataTable['output_type'] = 'display_data';\n",
              "          await google.colab.output.renderOutput(dataTable, element);\n",
              "          const docLink = document.createElement('div');\n",
              "          docLink.innerHTML = docLinkHtml;\n",
              "          element.appendChild(docLink);\n",
              "        }\n",
              "      </script>\n",
              "    </div>\n",
              "  </div>\n",
              "  "
            ]
          },
          "metadata": {},
          "execution_count": 23
        }
      ],
      "source": [
        "#Rename the columns as \"text\" and \"rating\" text=user review and rating=user rating\n",
        "new_data = new_data.rename(columns={'13': 'review','7' : 'rating'})\n",
        "new_data.head()"
      ]
    },
    {
      "cell_type": "markdown",
      "source": [
        "Now, as a part of data visualisation I am counting the frequency of each rating. "
      ],
      "metadata": {
        "id": "1H5VNm5BJNAN"
      }
    },
    {
      "cell_type": "code",
      "execution_count": 24,
      "metadata": {
        "colab": {
          "base_uri": "https://localhost:8080/"
        },
        "id": "b_mgP9V98JFn",
        "outputId": "4c1bf436-3e79-40ba-d18a-7d0480bbd9e1"
      },
      "outputs": [
        {
          "output_type": "stream",
          "name": "stdout",
          "text": [
            "5    6399\n",
            "4    1454\n",
            "1     874\n",
            "3     760\n",
            "2     513\n",
            "Name: rating, dtype: int64\n"
          ]
        }
      ],
      "source": [
        "# Count the number of occurrences (frequency) of each rating in the \"rating\" column\n",
        "rating_counts = new_data['rating'].value_counts()\n",
        "print(rating_counts)"
      ]
    },
    {
      "cell_type": "code",
      "source": [
        "#Visualizing the frequency of different rating groups using a bar diagram\n",
        "import numpy as np\n",
        "x= np.array([874,513,760,1454,6399])\n",
        "y=np.array([1,2,3,4,5])\n",
        "#plt.hist2d(y, x)\n",
        "plt.bar(y, x)\n",
        "# set the plot title and axis labels\n",
        "plt.xlabel('Rating')\n",
        "plt.ylabel('Frequency')\n",
        "plt.ylim([0, 7000])\n"
      ],
      "metadata": {
        "colab": {
          "base_uri": "https://localhost:8080/",
          "height": 472
        },
        "id": "LpISIgUSK_t5",
        "outputId": "38691000-5722-4fed-b917-f82b0e478a2f"
      },
      "execution_count": 25,
      "outputs": [
        {
          "output_type": "execute_result",
          "data": {
            "text/plain": [
              "(0.0, 7000.0)"
            ]
          },
          "metadata": {},
          "execution_count": 25
        },
        {
          "output_type": "display_data",
          "data": {
            "text/plain": [
              "<Figure size 640x480 with 1 Axes>"
            ],
            "image/png": "[encoded data removed]"
          },
          "metadata": {}
        }
      ]
    },
    {
      "cell_type": "markdown",
      "source": [
        "**Step 02: Pre processing the data** Preprocessing is one of the most important steps of a machine learning project. It improves the quality of input data and make it more suitable for analysis. "
      ],
      "metadata": {
        "id": "3yqSC8I3j3wP"
      }
    },
    {
      "cell_type": "markdown",
      "source": [
        "There are many preprocessing techniques available. In this project, I am using Texthero. Texthero is a python package for text based dataset. More resources can be found here https://texthero.org/docs/getting-started "
      ],
      "metadata": {
        "id": "eKCM3KvVJ7cE"
      }
    },
    {
      "cell_type": "code",
      "execution_count": null,
      "metadata": {
        "id": "nPchxQS9Gsyy"
      },
      "outputs": [],
      "source": [
        "#installing required packages \n",
        "!pip install texthero"
      ]
    },
    {
      "cell_type": "code",
      "execution_count": null,
      "metadata": {
        "id": "SeoZGBAzIFyB"
      },
      "outputs": [],
      "source": [
        "!pip install texthero -U\n"
      ]
    },
    {
      "cell_type": "code",
      "execution_count": null,
      "metadata": {
        "id": "sQ_N8Nh7IarP"
      },
      "outputs": [],
      "source": [
        "!pip install -U spacy"
      ]
    },
    {
      "cell_type": "code",
      "execution_count": null,
      "metadata": {
        "id": "rvR9-N3cIyiF"
      },
      "outputs": [],
      "source": [
        "import texthero as hero"
      ]
    },
    {
      "cell_type": "markdown",
      "source": [
        "For this project, I am applying 3 pre-processing tasks creating a custom pipeline \"prep_pipeline\" \n",
        "Here are the three tasks I am performing:\n",
        "\n",
        "1. fillna: This function replaces any missing values (NaNs) in the 'review' column with an empty string.\n",
        "2. lowercase: This function converts all text in the 'review' column to lowercase.\n",
        "3. remove_stopwords: This function removes common stopwords (such as \"the\", \"and\", \"a\", etc.) from the 'review' column."
      ],
      "metadata": {
        "id": "XgD0ooWlNhJI"
      }
    },
    {
      "cell_type": "code",
      "execution_count": 26,
      "metadata": {
        "id": "K8gk8L68JCMA"
      },
      "outputs": [],
      "source": [
        "new_data['review'] = hero.clean(new_data['review'])\n",
        "new_data.head()\n",
        "\n",
        "from texthero import preprocessing\n",
        "\n",
        "prep_pipeline = [preprocessing.fillna,\n",
        "                   preprocessing.lowercase,\n",
        "                   preprocessing.remove_stopwords]\n",
        "new_data['review'] = hero.clean(new_data['review'], prep_pipeline)\n",
        "\n",
        "\n"
      ]
    },
    {
      "cell_type": "code",
      "execution_count": 27,
      "metadata": {
        "colab": {
          "base_uri": "https://localhost:8080/",
          "height": 204
        },
        "id": "GEq8nLRxTKHQ",
        "outputId": "531d9337-f851-4f71-b8eb-e9d22561c108"
      },
      "outputs": [
        {
          "output_type": "execute_result",
          "data": {
            "text/plain": [
              "                                              review  rating\n",
              "0  love razor like size fact use wet dry places u...       5\n",
              "1                              seem dry nails faster       3\n",
              "2                                             needed       4\n",
              "3  lotus great good potency suggestion steep swee...       5\n",
              "4  oldest son really bad eczema flares baseball s...       5"
            ],
            "text/html": [
              "\n",
              "  <div id=\"df-48e46fa2-3601-4e88-b22e-fd8634eb6d52\">\n",
              "    <div class=\"colab-df-container\">\n",
              "      <div>\n",
              "<style scoped>\n",
              "    .dataframe tbody tr th:only-of-type {\n",
              "        vertical-align: middle;\n",
              "    }\n",
              "\n",
              "    .dataframe tbody tr th {\n",
              "        vertical-align: top;\n",
              "    }\n",
              "\n",
              "    .dataframe thead th {\n",
              "        text-align: right;\n",
              "    }\n",
              "</style>\n",
              "<table border=\"1\" class=\"dataframe\">\n",
              "  <thead>\n",
              "    <tr style=\"text-align: right;\">\n",
              "      <th></th>\n",
              "      <th>review</th>\n",
              "      <th>rating</th>\n",
              "    </tr>\n",
              "  </thead>\n",
              "  <tbody>\n",
              "    <tr>\n",
              "      <th>0</th>\n",
              "      <td>love razor like size fact use wet dry places u...</td>\n",
              "      <td>5</td>\n",
              "    </tr>\n",
              "    <tr>\n",
              "      <th>1</th>\n",
              "      <td>seem dry nails faster</td>\n",
              "      <td>3</td>\n",
              "    </tr>\n",
              "    <tr>\n",
              "      <th>2</th>\n",
              "      <td>needed</td>\n",
              "      <td>4</td>\n",
              "    </tr>\n",
              "    <tr>\n",
              "      <th>3</th>\n",
              "      <td>lotus great good potency suggestion steep swee...</td>\n",
              "      <td>5</td>\n",
              "    </tr>\n",
              "    <tr>\n",
              "      <th>4</th>\n",
              "      <td>oldest son really bad eczema flares baseball s...</td>\n",
              "      <td>5</td>\n",
              "    </tr>\n",
              "  </tbody>\n",
              "</table>\n",
              "</div>\n",
              "      <button class=\"colab-df-convert\" onclick=\"convertToInteractive('df-48e46fa2-3601-4e88-b22e-fd8634eb6d52')\"\n",
              "              title=\"Convert this dataframe to an interactive table.\"\n",
              "              style=\"display:none;\">\n",
              "        \n",
              "  <svg xmlns=\"http://www.w3.org/2000/svg\" height=\"24px\"viewBox=\"0 0 24 24\"\n",
              "       width=\"24px\">\n",
              "    <path d=\"M0 0h24v24H0V0z\" fill=\"none\"/>\n",
              "    <path d=\"M18.56 5.44l.94 2.06.94-2.06 2.06-.94-2.06-.94-.94-2.06-.94 2.06-2.06.94zm-11 1L8.5 8.5l.94-2.06 2.06-.94-2.06-.94L8.5 2.5l-.94 2.06-2.06.94zm10 10l.94 2.06.94-2.06 2.06-.94-2.06-.94-.94-2.06-.94 2.06-2.06.94z\"/><path d=\"M17.41 7.96l-1.37-1.37c-.4-.4-.92-.59-1.43-.59-.52 0-1.04.2-1.43.59L10.3 9.45l-7.72 7.72c-.78.78-.78 2.05 0 2.83L4 21.41c.39.39.9.59 1.41.59.51 0 1.02-.2 1.41-.59l7.78-7.78 2.81-2.81c.8-.78.8-2.07 0-2.86zM5.41 20L4 18.59l7.72-7.72 1.47 1.35L5.41 20z\"/>\n",
              "  </svg>\n",
              "      </button>\n",
              "      \n",
              "  <style>\n",
              "    .colab-df-container {\n",
              "      display:flex;\n",
              "      flex-wrap:wrap;\n",
              "      gap: 12px;\n",
              "    }\n",
              "\n",
              "    .colab-df-convert {\n",
              "      background-color: #E8F0FE;\n",
              "      border: none;\n",
              "      border-radius: 50%;\n",
              "      cursor: pointer;\n",
              "      display: none;\n",
              "      fill: #1967D2;\n",
              "      height: 32px;\n",
              "      padding: 0 0 0 0;\n",
              "      width: 32px;\n",
              "    }\n",
              "\n",
              "    .colab-df-convert:hover {\n",
              "      background-color: #E2EBFA;\n",
              "      box-shadow: 0px 1px 2px rgba(60, 64, 67, 0.3), 0px 1px 3px 1px rgba(60, 64, 67, 0.15);\n",
              "      fill: #174EA6;\n",
              "    }\n",
              "\n",
              "    [theme=dark] .colab-df-convert {\n",
              "      background-color: #3B4455;\n",
              "      fill: #D2E3FC;\n",
              "    }\n",
              "\n",
              "    [theme=dark] .colab-df-convert:hover {\n",
              "      background-color: #434B5C;\n",
              "      box-shadow: 0px 1px 3px 1px rgba(0, 0, 0, 0.15);\n",
              "      filter: drop-shadow(0px 1px 2px rgba(0, 0, 0, 0.3));\n",
              "      fill: #FFFFFF;\n",
              "    }\n",
              "  </style>\n",
              "\n",
              "      <script>\n",
              "        const buttonEl =\n",
              "          document.querySelector('#df-48e46fa2-3601-4e88-b22e-fd8634eb6d52 button.colab-df-convert');\n",
              "        buttonEl.style.display =\n",
              "          google.colab.kernel.accessAllowed ? 'block' : 'none';\n",
              "\n",
              "        async function convertToInteractive(key) {\n",
              "          const element = document.querySelector('#df-48e46fa2-3601-4e88-b22e-fd8634eb6d52');\n",
              "          const dataTable =\n",
              "            await google.colab.kernel.invokeFunction('convertToInteractive',\n",
              "                                                     [key], {});\n",
              "          if (!dataTable) return;\n",
              "\n",
              "          const docLinkHtml = 'Like what you see? Visit the ' +\n",
              "            '<a target=\"_blank\" href=https://colab.research.google.com/notebooks/data_table.ipynb>data table notebook</a>'\n",
              "            + ' to learn more about interactive tables.';\n",
              "          element.innerHTML = '';\n",
              "          dataTable['output_type'] = 'display_data';\n",
              "          await google.colab.output.renderOutput(dataTable, element);\n",
              "          const docLink = document.createElement('div');\n",
              "          docLink.innerHTML = docLinkHtml;\n",
              "          element.appendChild(docLink);\n",
              "        }\n",
              "      </script>\n",
              "    </div>\n",
              "  </div>\n",
              "  "
            ]
          },
          "metadata": {},
          "execution_count": 27
        }
      ],
      "source": [
        "#Visualizing the data after pre-processing\n",
        "new_data.head()"
      ]
    },
    {
      "cell_type": "markdown",
      "source": [
        "**Step 03: Performing TF-IDF vectorization**\n",
        "TF-IDF (Term Frequency-Inverse Document Frequency) Vectorization is commonly conducted after the data pre-processing steps in NLP. In NLP, data pre-processing includes cleaning and transforming raw text input into a format suitable for analysis or training machine learning models."
      ],
      "metadata": {
        "id": "zimoJqntTPrz"
      }
    },
    {
      "cell_type": "code",
      "execution_count": 28,
      "metadata": {
        "id": "QrnYgMjaVJd2"
      },
      "outputs": [],
      "source": [
        "tfidf = TfidfVectorizer(max_features=5000, ngram_range=(1,3))"
      ]
    },
    {
      "cell_type": "code",
      "execution_count": 29,
      "metadata": {
        "id": "a59DJtP0VTDW"
      },
      "outputs": [],
      "source": [
        "X=tfidf.fit_transform(new_data['review'])\n",
        "Y=new_data['rating']"
      ]
    },
    {
      "cell_type": "code",
      "execution_count": 30,
      "metadata": {
        "colab": {
          "base_uri": "https://localhost:8080/"
        },
        "id": "bRlilXc3Vj3f",
        "outputId": "cd12969d-aa3a-4d09-9afc-0bbf05a8c44f"
      },
      "outputs": [
        {
          "output_type": "execute_result",
          "data": {
            "text/plain": [
              "((10000, 5000), (10000,))"
            ]
          },
          "metadata": {},
          "execution_count": 30
        }
      ],
      "source": [
        "X.shape, Y.shape"
      ]
    },
    {
      "cell_type": "code",
      "execution_count": 31,
      "metadata": {
        "id": "2xBEsV-bVm5b"
      },
      "outputs": [],
      "source": [
        "X_train, X_test, Y_train, Y_test = train_test_split(X,Y,test_size=0.2,random_state=0)"
      ]
    },
    {
      "cell_type": "code",
      "execution_count": 32,
      "metadata": {
        "colab": {
          "base_uri": "https://localhost:8080/"
        },
        "id": "IIn4QZ56VtaG",
        "outputId": "1fe7e2c2-6045-47ed-948f-0cd4acabea72"
      },
      "outputs": [
        {
          "output_type": "execute_result",
          "data": {
            "text/plain": [
              "(8000, 5000)"
            ]
          },
          "metadata": {},
          "execution_count": 32
        }
      ],
      "source": [
        "X_train.shape"
      ]
    },
    {
      "cell_type": "markdown",
      "source": [
        "**Step 04: Creating SVM model**\n",
        "Here, I am using LinearSVC classifier which is a type of linear support vector machine (SVM) that maximizes the margin between different classes of data in a high-dimensional feature space to learn an estimation boundary between them. Since it can handle features with high dimensions and large datasets efficiently, it is a preferred choice for text classification tasks."
      ],
      "metadata": {
        "id": "U8xDaZhnRZkd"
      }
    },
    {
      "cell_type": "markdown",
      "source": [
        "Now, I am performing regularization. In this step, I am creating a function to find out the best random state and the cross-validation score for the mode"
      ],
      "metadata": {
        "id": "MTrR21h0ucdG"
      }
    },
    {
      "cell_type": "code",
      "source": [
        "# Exploring the range of seed values \n",
        "seed_range = range(1, 10)\n",
        "\n",
        "# Initialize variables \n",
        "best_seed = None \n",
        "best_score = 0\n",
        "\n",
        "# Loop through each seed value and train the SVM model with cross-validation\n",
        "for seed in seed_range:\n",
        "    clf = SVC(kernel='linear', C=20, random_state=seed, class_weight='balanced')\n",
        "    scores = cross_val_score(clf, X, Y, cv=5)\n",
        "    mean_score = scores.mean()\n",
        "    \n",
        "    # Check if the current seed value results in a better score than the previous best\n",
        "    if mean_score > best_score:\n",
        "        best_score = mean_score\n",
        "        best_seed = seed\n",
        "\n",
        "# Display the best seed value and score\n",
        "print(\"Best seed value:\", best_seed)\n",
        "print(\"Best cross-validation score:\", best_score)"
      ],
      "metadata": {
        "colab": {
          "base_uri": "https://localhost:8080/"
        },
        "id": "K6Q1hluguTPT",
        "outputId": "bb42ffd3-9d60-4c5b-9fcb-1030a7e0f2f6"
      },
      "execution_count": 33,
      "outputs": [
        {
          "output_type": "stream",
          "name": "stdout",
          "text": [
            "Best seed value: 1\n",
            "Best cross-validation score: 0.5856\n"
          ]
        }
      ]
    },
    {
      "cell_type": "code",
      "execution_count": 34,
      "metadata": {
        "colab": {
          "base_uri": "https://localhost:8080/",
          "height": 74
        },
        "id": "DcFgLIMXVx0L",
        "outputId": "544cfab8-4e4d-4196-9b71-5451c3833c82"
      },
      "outputs": [
        {
          "output_type": "execute_result",
          "data": {
            "text/plain": [
              "SVC(C=20, class_weight='balanced', kernel='linear', random_state=1)"
            ],
            "text/html": [
              "<style>#sk-container-id-1 {color: black;background-color: white;}#sk-container-id-1 pre{padding: 0;}#sk-container-id-1 div.sk-toggleable {background-color: white;}#sk-container-id-1 label.sk-toggleable__label {cursor: pointer;display: block;width: 100%;margin-bottom: 0;padding: 0.3em;box-sizing: border-box;text-align: center;}#sk-container-id-1 label.sk-toggleable__label-arrow:before {content: \"▸\";float: left;margin-right: 0.25em;color: #696969;}#sk-container-id-1 label.sk-toggleable__label-arrow:hover:before {color: black;}#sk-container-id-1 div.sk-estimator:hover label.sk-toggleable__label-arrow:before {color: black;}#sk-container-id-1 div.sk-toggleable__content {max-height: 0;max-width: 0;overflow: hidden;text-align: left;background-color: #f0f8ff;}#sk-container-id-1 div.sk-toggleable__content pre {margin: 0.2em;color: black;border-radius: 0.25em;background-color: #f0f8ff;}#sk-container-id-1 input.sk-toggleable__control:checked~div.sk-toggleable__content {max-height: 200px;max-width: 100%;overflow: auto;}#sk-container-id-1 input.sk-toggleable__control:checked~label.sk-toggleable__label-arrow:before {content: \"▾\";}#sk-container-id-1 div.sk-estimator input.sk-toggleable__control:checked~label.sk-toggleable__label {background-color: #d4ebff;}#sk-container-id-1 div.sk-label input.sk-toggleable__control:checked~label.sk-toggleable__label {background-color: #d4ebff;}#sk-container-id-1 input.sk-hidden--visually {border: 0;clip: rect(1px 1px 1px 1px);clip: rect(1px, 1px, 1px, 1px);height: 1px;margin: -1px;overflow: hidden;padding: 0;position: absolute;width: 1px;}#sk-container-id-1 div.sk-estimator {font-family: monospace;background-color: #f0f8ff;border: 1px dotted black;border-radius: 0.25em;box-sizing: border-box;margin-bottom: 0.5em;}#sk-container-id-1 div.sk-estimator:hover {background-color: #d4ebff;}#sk-container-id-1 div.sk-parallel-item::after {content: \"\";width: 100%;border-bottom: 1px solid gray;flex-grow: 1;}#sk-container-id-1 div.sk-label:hover label.sk-toggleable__label {background-color: #d4ebff;}#sk-container-id-1 div.sk-serial::before {content: \"\";position: absolute;border-left: 1px solid gray;box-sizing: border-box;top: 0;bottom: 0;left: 50%;z-index: 0;}#sk-container-id-1 div.sk-serial {display: flex;flex-direction: column;align-items: center;background-color: white;padding-right: 0.2em;padding-left: 0.2em;position: relative;}#sk-container-id-1 div.sk-item {position: relative;z-index: 1;}#sk-container-id-1 div.sk-parallel {display: flex;align-items: stretch;justify-content: center;background-color: white;position: relative;}#sk-container-id-1 div.sk-item::before, #sk-container-id-1 div.sk-parallel-item::before {content: \"\";position: absolute;border-left: 1px solid gray;box-sizing: border-box;top: 0;bottom: 0;left: 50%;z-index: -1;}#sk-container-id-1 div.sk-parallel-item {display: flex;flex-direction: column;z-index: 1;position: relative;background-color: white;}#sk-container-id-1 div.sk-parallel-item:first-child::after {align-self: flex-end;width: 50%;}#sk-container-id-1 div.sk-parallel-item:last-child::after {align-self: flex-start;width: 50%;}#sk-container-id-1 div.sk-parallel-item:only-child::after {width: 0;}#sk-container-id-1 div.sk-dashed-wrapped {border: 1px dashed gray;margin: 0 0.4em 0.5em 0.4em;box-sizing: border-box;padding-bottom: 0.4em;background-color: white;}#sk-container-id-1 div.sk-label label {font-family: monospace;font-weight: bold;display: inline-block;line-height: 1.2em;}#sk-container-id-1 div.sk-label-container {text-align: center;}#sk-container-id-1 div.sk-container {/* jupyter's `normalize.less` sets `[hidden] { display: none; }` but bootstrap.min.css set `[hidden] { display: none !important; }` so we also need the `!important` here to be able to override the default hidden behavior on the sphinx rendered scikit-learn.org. See: https://github.com/scikit-learn/scikit-learn/issues/21755 */display: inline-block !important;position: relative;}#sk-container-id-1 div.sk-text-repr-fallback {display: none;}</style><div id=\"sk-container-id-1\" class=\"sk-top-container\"><div class=\"sk-text-repr-fallback\"><pre>SVC(C=20, class_weight=&#x27;balanced&#x27;, kernel=&#x27;linear&#x27;, random_state=1)</pre><b>In a Jupyter environment, please rerun this cell to show the HTML representation or trust the notebook. <br />On GitHub, the HTML representation is unable to render, please try loading this page with nbviewer.org.</b></div><div class=\"sk-container\" hidden><div class=\"sk-item\"><div class=\"sk-estimator sk-toggleable\"><input class=\"sk-toggleable__control sk-hidden--visually\" id=\"sk-estimator-id-1\" type=\"checkbox\" checked><label for=\"sk-estimator-id-1\" class=\"sk-toggleable__label sk-toggleable__label-arrow\">SVC</label><div class=\"sk-toggleable__content\"><pre>SVC(C=20, class_weight=&#x27;balanced&#x27;, kernel=&#x27;linear&#x27;, random_state=1)</pre></div></div></div></div></div>"
            ]
          },
          "metadata": {},
          "execution_count": 34
        }
      ],
      "source": [
        "clf= SVC(kernel='linear', C=20, random_state=1, class_weight='balanced')\n",
        "clf.fit(X_train,Y_train)"
      ]
    },
    {
      "cell_type": "code",
      "execution_count": 35,
      "metadata": {
        "id": "CRZBQzebV-lQ"
      },
      "outputs": [],
      "source": [
        "Y_pred = clf.predict(X_test)"
      ]
    },
    {
      "cell_type": "markdown",
      "source": [
        "**Step 05: Cross validation**\n",
        "Cross-validation is an important technique for evaluating a model's performance and generalization capabilities, and it can help to improve the accuracy and dependability of machine learning applications. Here, I am using K-fold cross validation. "
      ],
      "metadata": {
        "id": "AIlbXKbST5lG"
      }
    },
    {
      "cell_type": "code",
      "execution_count": 36,
      "metadata": {
        "colab": {
          "base_uri": "https://localhost:8080/"
        },
        "id": "D2k1IPQZATv_",
        "outputId": "d2b80f92-b521-4b82-c59e-6a534526bffc"
      },
      "outputs": [
        {
          "output_type": "stream",
          "name": "stdout",
          "text": [
            "Cross-validation scores: [0.5855 0.58   0.5855 0.593  0.584 ]\n",
            "Average score: 0.5856\n"
          ]
        }
      ],
      "source": [
        "#'cv'=5 meaning 5-fold cross validation\n",
        "scores = cross_val_score(clf, X, Y, cv=5)\n",
        "print(\"Cross-validation scores:\", scores)\n",
        "print(\"Average score:\", scores.mean())"
      ]
    },
    {
      "cell_type": "markdown",
      "source": [
        "**Step 06: Performance metrics**\n",
        "Evaluating a model's performance is a crucial step in the development process in machine learning since it allows us to determine how effectively the model can generalize to new, unseen data. A classification report is one method for evaluating the performance of a classification model, such as an SVM classifier."
      ],
      "metadata": {
        "id": "0oLLFza8XtIf"
      }
    },
    {
      "cell_type": "code",
      "source": [
        "#Performance metrics of the model\n",
        "print(classification_report(Y_test,Y_pred))"
      ],
      "metadata": {
        "colab": {
          "base_uri": "https://localhost:8080/"
        },
        "id": "VmMD1vHFYVGR",
        "outputId": "3cc2921e-f2d4-46fb-9d7d-c3d2b4ed6f78"
      },
      "execution_count": 37,
      "outputs": [
        {
          "output_type": "stream",
          "name": "stdout",
          "text": [
            "              precision    recall  f1-score   support\n",
            "\n",
            "           1       0.46      0.51      0.48       183\n",
            "           2       0.15      0.12      0.13       121\n",
            "           3       0.19      0.25      0.21       132\n",
            "           4       0.26      0.26      0.26       292\n",
            "           5       0.80      0.77      0.79      1272\n",
            "\n",
            "    accuracy                           0.60      2000\n",
            "   macro avg       0.37      0.38      0.38      2000\n",
            "weighted avg       0.61      0.60      0.60      2000\n",
            "\n"
          ]
        }
      ]
    },
    {
      "cell_type": "markdown",
      "source": [
        "**Step 07: Error analysis**\n",
        "A vital stage in the creation of a machine learning model is error analysis. The purpose of error analysis is to detect and comprehend the types of errors made by the model on the test set, and to use this knowledge to improve the model's performance. Here I am using confusion matrix for analyzing error. "
      ],
      "metadata": {
        "id": "4n1kvABUZLpr"
      }
    },
    {
      "cell_type": "code",
      "source": [
        "# Calculate confusion matrix\n",
        "cm = confusion_matrix(Y_test, Y_pred)\n",
        "#print(\"Confusion matrix:\\n\", cm)\n",
        "#Creating a table with the values of confusion matrix\n",
        "# create table headers\n",
        "headers = ['True Label','Predicted rating: 1', 'Predicted rating: 2', 'Predicted rating: 3', 'Predicted rating: 4','Predicted rating: 5']\n",
        "# creating table rows\n",
        "rows = []\n",
        "for i, row in enumerate(cm):\n",
        "    rows.append([f'Actual rating: {i+1}'] + list(row))\n",
        "\n",
        "# print confusion matrix as table\n",
        "print(\"Confusion Matrix \\n\")\n",
        "print(tabulate(rows, headers=headers))"
      ],
      "metadata": {
        "colab": {
          "base_uri": "https://localhost:8080/"
        },
        "id": "Js-qQZ8R74hu",
        "outputId": "011b8131-9545-4041-8e0b-9f21235fb1a9"
      },
      "execution_count": 38,
      "outputs": [
        {
          "output_type": "stream",
          "name": "stdout",
          "text": [
            "Confusion Matrix \n",
            "\n",
            "True Label          Predicted rating: 1    Predicted rating: 2    Predicted rating: 3    Predicted rating: 4    Predicted rating: 5\n",
            "----------------  ---------------------  ---------------------  ---------------------  ---------------------  ---------------------\n",
            "Actual rating: 1                     94                     20                     16                     14                     39\n",
            "Actual rating: 2                     33                     14                     24                     18                     32\n",
            "Actual rating: 3                     20                     16                     33                     28                     35\n",
            "Actual rating: 4                     19                     16                     42                     76                    139\n",
            "Actual rating: 5                     39                     26                     60                    162                    985\n"
          ]
        }
      ]
    },
    {
      "cell_type": "markdown",
      "source": [
        "Now, I am saving the model for future use. "
      ],
      "metadata": {
        "id": "fNtZuzU6laf9"
      }
    },
    {
      "cell_type": "code",
      "source": [
        "#saving the model\n",
        "import joblib\n",
        "joblib.dump(clf, 'svm.joblib')"
      ],
      "metadata": {
        "colab": {
          "base_uri": "https://localhost:8080/"
        },
        "id": "0F_CQLFWlbYy",
        "outputId": "c7de3ff4-05e8-46be-decf-3da06e87d86e"
      },
      "execution_count": 39,
      "outputs": [
        {
          "output_type": "execute_result",
          "data": {
            "text/plain": [
              "['svm.joblib']"
            ]
          },
          "metadata": {},
          "execution_count": 39
        }
      ]
    },
    {
      "cell_type": "markdown",
      "source": [
        "Now, it's time to test the model with some reviews. Here I am manually testing this model with a few sample reviews to see which rating it predicts for my reviews. "
      ],
      "metadata": {
        "id": "W4UowORKk914"
      }
    },
    {
      "cell_type": "code",
      "execution_count": 41,
      "metadata": {
        "colab": {
          "base_uri": "https://localhost:8080/"
        },
        "id": "wGS5zzoyWMJR",
        "outputId": "ae1138b9-72b2-4337-cdd4-cc61804a1367"
      },
      "outputs": [
        {
          "output_type": "execute_result",
          "data": {
            "text/plain": [
              "array([2])"
            ]
          },
          "metadata": {},
          "execution_count": 41
        }
      ],
      "source": [
        "#testing with sample review\n",
        "review1 = 'I dont like it, average product nothing special.'\n",
        "vect = tfidf.transform([review1])\n",
        "clf.predict(vect)"
      ]
    },
    {
      "cell_type": "code",
      "execution_count": 42,
      "metadata": {
        "colab": {
          "base_uri": "https://localhost:8080/"
        },
        "id": "kCxY4cSZXK0b",
        "outputId": "c44e2bed-2a1e-455a-f775-d7d768068c36"
      },
      "outputs": [
        {
          "output_type": "execute_result",
          "data": {
            "text/plain": [
              "array([5])"
            ]
          },
          "metadata": {},
          "execution_count": 42
        }
      ],
      "source": [
        "review2 = 'Awsome! Will recommend to my friends.'\n",
        "vect = tfidf.transform([review2])\n",
        "clf.predict(vect)"
      ]
    },
    {
      "cell_type": "code",
      "execution_count": 43,
      "metadata": {
        "colab": {
          "base_uri": "https://localhost:8080/"
        },
        "id": "dpfmh1mkXRkK",
        "outputId": "d2b72b91-20d1-43cc-fafa-43f236609c7d"
      },
      "outputs": [
        {
          "output_type": "execute_result",
          "data": {
            "text/plain": [
              "array([1])"
            ]
          },
          "metadata": {},
          "execution_count": 43
        }
      ],
      "source": [
        "review3 = 'worst experience..'\n",
        "vect = tfidf.transform([review3])\n",
        "clf.predict(vect)"
      ]
    },
    {
      "cell_type": "markdown",
      "source": [
        "**Conclusion:**\n",
        "Based on the calculated performance metrics, the model's overall accuracy is 0.60, which is not very high. The precision, recall, and f1-score for classes 1, 2, and 3 are low, indicating that the model has difficulty predicting these classes. The precision, recall, and f1-score for class 5 are high, indicating that the model performs well in predicting this class. The dataset I have used for this model is not balanced, the picture of frequency diagram shows how imbalanced the classes are. It has more five rating compared to other categories. The macro average and weighted average of precision, recall, and f1-score are also low, indicating that the model's overall performance is not very good. Therefore, the model needs to be improved further with a more balanced dataset and performance can also be improved accordingly."
      ],
      "metadata": {
        "id": "Jxg3m1YsLCCZ"
      }
    },
    {
      "cell_type": "markdown",
      "metadata": {
        "id": "xtcyfF6hJ5iP"
      },
      "source": [
        "Reference\n",
        "1. https://texthero.org/docs/getting-started\n",
        "2. https://scikit-learn.org/stable/modules/svm.html\n",
        "3. https://www.geeksforgeeks.org/classifying-data-using-support-vector-machinessvms-in-python/\n",
        "4. https://www.freecodecamp.org/news/how-to-work-and-understand-text-based-dataset-with-texthero/"
      ]
    }
  ],
  "metadata": {
    "colab": {
      "provenance": []
    },
    "kernelspec": {
      "display_name": "Python 3",
      "name": "python3"
    },
    "language_info": {
      "name": "python"
    }
  },
  "nbformat": 4,
  "nbformat_minor": 0
}