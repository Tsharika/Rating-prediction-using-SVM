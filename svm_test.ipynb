{
  "cells": [
    {
      "cell_type": "markdown",
      "metadata": {
        "id": "KeTEO67wa4yq"
      },
      "source": [
        "This is a supervised machine learning model created for Intro To NLP course AIT526. I have created a basic implementation of SVM model creating a pipeline as a part of my project. Here are the steps:\n",
        "1. Data visualization\n",
        "2. Pre processing the data\n",
        "3. Performing TF-IDF vectorization\n",
        "4. Creating SVM model\n",
        "5. Cross validation\n",
        "6. Performance metrics\n",
        "7. Error analysis"
      ]
    },
    {
      "cell_type": "markdown",
      "source": [
        "**Step 01: Data visualization** In this stage, I am analyzing the features of the dataset and modify it according to my project requirements."
      ],
      "metadata": {
        "id": "qi_WWOiijxxc"
      }
    },
    {
      "cell_type": "markdown",
      "source": [
        "First, I am importing necessary libraries for my project"
      ],
      "metadata": {
        "id": "nm5T1gljAK65"
      }
    },
    {
      "cell_type": "code",
      "execution_count": 85,
      "metadata": {
        "id": "7VtdxtlBa9qj"
      },
      "outputs": [],
      "source": [
        "#Importing libraries \n",
        "import pandas as pd\n",
        "from sklearn.feature_extraction.text import CountVectorizer\n",
        "from sklearn.model_selection import train_test_split, KFold, cross_val_score\n",
        "from sklearn.svm import SVC\n",
        "from sklearn.pipeline import Pipeline\n",
        "from sklearn.feature_extraction.text import TfidfVectorizer\n",
        "from sklearn.model_selection import train_test_split\n",
        "from sklearn.svm import LinearSVC\n",
        "from sklearn.model_selection import cross_val_score\n",
        "from sklearn.metrics import classification_report\n",
        "from sklearn.metrics import confusion_matrix, roc_auc_score, roc_curve\n",
        "import matplotlib.pyplot as plt\n",
        "from tabulate import tabulate"
      ]
    },
    {
      "cell_type": "markdown",
      "source": [
        "After getting the required libraries, Now I am loading the dataset. It is an amazon review dataset based on beauty products. The dataset is collected from https://cseweb.ucsd.edu/~jmcauley/datasets.html#amazon_reviews\n",
        "\n",
        "The dataset is very large. For this project, we have selected random 10 thousand random data points from this dataset. "
      ],
      "metadata": {
        "id": "lDvnak8JjMb0"
      }
    },
    {
      "cell_type": "code",
      "execution_count": 62,
      "metadata": {
        "id": "8j4XS4vG614e"
      },
      "outputs": [],
      "source": [
        "# load the csv file\n",
        "data = pd.read_csv('/content/sample_data/Data.csv')"
      ]
    },
    {
      "cell_type": "code",
      "execution_count": 63,
      "metadata": {
        "id": "1TM3I4U27F_B",
        "colab": {
          "base_uri": "https://localhost:8080/",
          "height": 435
        },
        "outputId": "25f33c91-3281-4f7a-efdf-df1b22c693f0"
      },
      "outputs": [
        {
          "output_type": "execute_result",
          "data": {
            "text/plain": [
              "   Unnamed: 0   0         1               2           3          4  \\\n",
              "0           0  US  49831754   RLMKEGYR1J5RV  B000G0GW6K  787762150   \n",
              "1           1  US   8236225   RVGSM7UEB03Z8  B004HJ1798  922211650   \n",
              "2           2  US   4069021  R32XJXEPEQG0BO  B001N3P684  206189463   \n",
              "3           3  US  10835015  R27CGEI5FVAVTM  B007EQU3DC   34306879   \n",
              "4           4  US  13157724   REE0MWSR9KMEH  B00T546HD6  838726379   \n",
              "\n",
              "                                                   5       6  7  8  9 10 11  \\\n",
              "0  Panasonic(r) Es2216pc Ladies' Close Curves(r) ...  Beauty  5  0  0  N  Y   \n",
              "1  Onyx Professional Spray On Nail Dry w/ Island ...  Beauty  3  4  5  N  Y   \n",
              "2                         Ped Egg Pedicure Foot File  Beauty  4  0  0  N  Y   \n",
              "3      1 OZ A+ Sacred Lotus Stamens Nelumbo nucifera  Beauty  5  5  6  N  Y   \n",
              "4  Psoriasis / Eczema Herbal Ointment - 100% All ...  Beauty  5  0  0  N  N   \n",
              "\n",
              "                                                  12  \\\n",
              "0                                             Shaver   \n",
              "1                                        Three Stars   \n",
              "2                                         Four Stars   \n",
              "3                                      great product   \n",
              "4  My oldest son has really bad eczema that flare...   \n",
              "\n",
              "                                                  13            14  \n",
              "0  Love this razor. I like the size and the fact ...  2013-05-03\\n  \n",
              "1           Doesn't seem to dry my nails any faster.  2015-08-05\\n  \n",
              "2                                just what we needed  2015-05-14\\n  \n",
              "3  This lotus is great. Good potency. My suggesti...  2014-06-06\\n  \n",
              "4  My oldest son has really bad eczema that flare...  2015-06-03\\n  "
            ],
            "text/html": [
              "\n",
              "  <div id=\"df-beeee309-2bf5-4213-bd50-fbcddb511046\">\n",
              "    <div class=\"colab-df-container\">\n",
              "      <div>\n",
              "<style scoped>\n",
              "    .dataframe tbody tr th:only-of-type {\n",
              "        vertical-align: middle;\n",
              "    }\n",
              "\n",
              "    .dataframe tbody tr th {\n",
              "        vertical-align: top;\n",
              "    }\n",
              "\n",
              "    .dataframe thead th {\n",
              "        text-align: right;\n",
              "    }\n",
              "</style>\n",
              "<table border=\"1\" class=\"dataframe\">\n",
              "  <thead>\n",
              "    <tr style=\"text-align: right;\">\n",
              "      <th></th>\n",
              "      <th>Unnamed: 0</th>\n",
              "      <th>0</th>\n",
              "      <th>1</th>\n",
              "      <th>2</th>\n",
              "      <th>3</th>\n",
              "      <th>4</th>\n",
              "      <th>5</th>\n",
              "      <th>6</th>\n",
              "      <th>7</th>\n",
              "      <th>8</th>\n",
              "      <th>9</th>\n",
              "      <th>10</th>\n",
              "      <th>11</th>\n",
              "      <th>12</th>\n",
              "      <th>13</th>\n",
              "      <th>14</th>\n",
              "    </tr>\n",
              "  </thead>\n",
              "  <tbody>\n",
              "    <tr>\n",
              "      <th>0</th>\n",
              "      <td>0</td>\n",
              "      <td>US</td>\n",
              "      <td>49831754</td>\n",
              "      <td>RLMKEGYR1J5RV</td>\n",
              "      <td>B000G0GW6K</td>\n",
              "      <td>787762150</td>\n",
              "      <td>Panasonic(r) Es2216pc Ladies' Close Curves(r) ...</td>\n",
              "      <td>Beauty</td>\n",
              "      <td>5</td>\n",
              "      <td>0</td>\n",
              "      <td>0</td>\n",
              "      <td>N</td>\n",
              "      <td>Y</td>\n",
              "      <td>Shaver</td>\n",
              "      <td>Love this razor. I like the size and the fact ...</td>\n",
              "      <td>2013-05-03\\n</td>\n",
              "    </tr>\n",
              "    <tr>\n",
              "      <th>1</th>\n",
              "      <td>1</td>\n",
              "      <td>US</td>\n",
              "      <td>8236225</td>\n",
              "      <td>RVGSM7UEB03Z8</td>\n",
              "      <td>B004HJ1798</td>\n",
              "      <td>922211650</td>\n",
              "      <td>Onyx Professional Spray On Nail Dry w/ Island ...</td>\n",
              "      <td>Beauty</td>\n",
              "      <td>3</td>\n",
              "      <td>4</td>\n",
              "      <td>5</td>\n",
              "      <td>N</td>\n",
              "      <td>Y</td>\n",
              "      <td>Three Stars</td>\n",
              "      <td>Doesn't seem to dry my nails any faster.</td>\n",
              "      <td>2015-08-05\\n</td>\n",
              "    </tr>\n",
              "    <tr>\n",
              "      <th>2</th>\n",
              "      <td>2</td>\n",
              "      <td>US</td>\n",
              "      <td>4069021</td>\n",
              "      <td>R32XJXEPEQG0BO</td>\n",
              "      <td>B001N3P684</td>\n",
              "      <td>206189463</td>\n",
              "      <td>Ped Egg Pedicure Foot File</td>\n",
              "      <td>Beauty</td>\n",
              "      <td>4</td>\n",
              "      <td>0</td>\n",
              "      <td>0</td>\n",
              "      <td>N</td>\n",
              "      <td>Y</td>\n",
              "      <td>Four Stars</td>\n",
              "      <td>just what we needed</td>\n",
              "      <td>2015-05-14\\n</td>\n",
              "    </tr>\n",
              "    <tr>\n",
              "      <th>3</th>\n",
              "      <td>3</td>\n",
              "      <td>US</td>\n",
              "      <td>10835015</td>\n",
              "      <td>R27CGEI5FVAVTM</td>\n",
              "      <td>B007EQU3DC</td>\n",
              "      <td>34306879</td>\n",
              "      <td>1 OZ A+ Sacred Lotus Stamens Nelumbo nucifera</td>\n",
              "      <td>Beauty</td>\n",
              "      <td>5</td>\n",
              "      <td>5</td>\n",
              "      <td>6</td>\n",
              "      <td>N</td>\n",
              "      <td>Y</td>\n",
              "      <td>great product</td>\n",
              "      <td>This lotus is great. Good potency. My suggesti...</td>\n",
              "      <td>2014-06-06\\n</td>\n",
              "    </tr>\n",
              "    <tr>\n",
              "      <th>4</th>\n",
              "      <td>4</td>\n",
              "      <td>US</td>\n",
              "      <td>13157724</td>\n",
              "      <td>REE0MWSR9KMEH</td>\n",
              "      <td>B00T546HD6</td>\n",
              "      <td>838726379</td>\n",
              "      <td>Psoriasis / Eczema Herbal Ointment - 100% All ...</td>\n",
              "      <td>Beauty</td>\n",
              "      <td>5</td>\n",
              "      <td>0</td>\n",
              "      <td>0</td>\n",
              "      <td>N</td>\n",
              "      <td>N</td>\n",
              "      <td>My oldest son has really bad eczema that flare...</td>\n",
              "      <td>My oldest son has really bad eczema that flare...</td>\n",
              "      <td>2015-06-03\\n</td>\n",
              "    </tr>\n",
              "  </tbody>\n",
              "</table>\n",
              "</div>\n",
              "      <button class=\"colab-df-convert\" onclick=\"convertToInteractive('df-beeee309-2bf5-4213-bd50-fbcddb511046')\"\n",
              "              title=\"Convert this dataframe to an interactive table.\"\n",
              "              style=\"display:none;\">\n",
              "        \n",
              "  <svg xmlns=\"http://www.w3.org/2000/svg\" height=\"24px\"viewBox=\"0 0 24 24\"\n",
              "       width=\"24px\">\n",
              "    <path d=\"M0 0h24v24H0V0z\" fill=\"none\"/>\n",
              "    <path d=\"M18.56 5.44l.94 2.06.94-2.06 2.06-.94-2.06-.94-.94-2.06-.94 2.06-2.06.94zm-11 1L8.5 8.5l.94-2.06 2.06-.94-2.06-.94L8.5 2.5l-.94 2.06-2.06.94zm10 10l.94 2.06.94-2.06 2.06-.94-2.06-.94-.94-2.06-.94 2.06-2.06.94z\"/><path d=\"M17.41 7.96l-1.37-1.37c-.4-.4-.92-.59-1.43-.59-.52 0-1.04.2-1.43.59L10.3 9.45l-7.72 7.72c-.78.78-.78 2.05 0 2.83L4 21.41c.39.39.9.59 1.41.59.51 0 1.02-.2 1.41-.59l7.78-7.78 2.81-2.81c.8-.78.8-2.07 0-2.86zM5.41 20L4 18.59l7.72-7.72 1.47 1.35L5.41 20z\"/>\n",
              "  </svg>\n",
              "      </button>\n",
              "      \n",
              "  <style>\n",
              "    .colab-df-container {\n",
              "      display:flex;\n",
              "      flex-wrap:wrap;\n",
              "      gap: 12px;\n",
              "    }\n",
              "\n",
              "    .colab-df-convert {\n",
              "      background-color: #E8F0FE;\n",
              "      border: none;\n",
              "      border-radius: 50%;\n",
              "      cursor: pointer;\n",
              "      display: none;\n",
              "      fill: #1967D2;\n",
              "      height: 32px;\n",
              "      padding: 0 0 0 0;\n",
              "      width: 32px;\n",
              "    }\n",
              "\n",
              "    .colab-df-convert:hover {\n",
              "      background-color: #E2EBFA;\n",
              "      box-shadow: 0px 1px 2px rgba(60, 64, 67, 0.3), 0px 1px 3px 1px rgba(60, 64, 67, 0.15);\n",
              "      fill: #174EA6;\n",
              "    }\n",
              "\n",
              "    [theme=dark] .colab-df-convert {\n",
              "      background-color: #3B4455;\n",
              "      fill: #D2E3FC;\n",
              "    }\n",
              "\n",
              "    [theme=dark] .colab-df-convert:hover {\n",
              "      background-color: #434B5C;\n",
              "      box-shadow: 0px 1px 3px 1px rgba(0, 0, 0, 0.15);\n",
              "      filter: drop-shadow(0px 1px 2px rgba(0, 0, 0, 0.3));\n",
              "      fill: #FFFFFF;\n",
              "    }\n",
              "  </style>\n",
              "\n",
              "      <script>\n",
              "        const buttonEl =\n",
              "          document.querySelector('#df-beeee309-2bf5-4213-bd50-fbcddb511046 button.colab-df-convert');\n",
              "        buttonEl.style.display =\n",
              "          google.colab.kernel.accessAllowed ? 'block' : 'none';\n",
              "\n",
              "        async function convertToInteractive(key) {\n",
              "          const element = document.querySelector('#df-beeee309-2bf5-4213-bd50-fbcddb511046');\n",
              "          const dataTable =\n",
              "            await google.colab.kernel.invokeFunction('convertToInteractive',\n",
              "                                                     [key], {});\n",
              "          if (!dataTable) return;\n",
              "\n",
              "          const docLinkHtml = 'Like what you see? Visit the ' +\n",
              "            '<a target=\"_blank\" href=https://colab.research.google.com/notebooks/data_table.ipynb>data table notebook</a>'\n",
              "            + ' to learn more about interactive tables.';\n",
              "          element.innerHTML = '';\n",
              "          dataTable['output_type'] = 'display_data';\n",
              "          await google.colab.output.renderOutput(dataTable, element);\n",
              "          const docLink = document.createElement('div');\n",
              "          docLink.innerHTML = docLinkHtml;\n",
              "          element.appendChild(docLink);\n",
              "        }\n",
              "      </script>\n",
              "    </div>\n",
              "  </div>\n",
              "  "
            ]
          },
          "metadata": {},
          "execution_count": 63
        }
      ],
      "source": [
        "#Visualizing the initial data \n",
        "data.head()\n"
      ]
    },
    {
      "cell_type": "markdown",
      "source": [
        "Now, I am selecting the columns we need and extract them from the dataset creating a subset of the original data. The columns contains the information including user review and rating accordingly."
      ],
      "metadata": {
        "id": "KM6KEX7RHz7Y"
      }
    },
    {
      "cell_type": "code",
      "execution_count": 64,
      "metadata": {
        "id": "tOKK-N7l7Kyy"
      },
      "outputs": [],
      "source": [
        "# select the required columns\n",
        "new_data = data[['13', '7']]"
      ]
    },
    {
      "cell_type": "markdown",
      "source": [
        "Next step: Renaming the columns based on preference. "
      ],
      "metadata": {
        "id": "KG0AK4oqIiOr"
      }
    },
    {
      "cell_type": "code",
      "execution_count": 65,
      "metadata": {
        "colab": {
          "base_uri": "https://localhost:8080/",
          "height": 204
        },
        "id": "o9bpkhlI7fXC",
        "outputId": "e60e0f4c-8ce3-4bc2-9005-4b5a631d8e6c"
      },
      "outputs": [
        {
          "output_type": "execute_result",
          "data": {
            "text/plain": [
              "                                              review  rating\n",
              "0  Love this razor. I like the size and the fact ...       5\n",
              "1           Doesn't seem to dry my nails any faster.       3\n",
              "2                                just what we needed       4\n",
              "3  This lotus is great. Good potency. My suggesti...       5\n",
              "4  My oldest son has really bad eczema that flare...       5"
            ],
            "text/html": [
              "\n",
              "  <div id=\"df-f45cf377-5835-4101-b5b7-9eb69f550206\">\n",
              "    <div class=\"colab-df-container\">\n",
              "      <div>\n",
              "<style scoped>\n",
              "    .dataframe tbody tr th:only-of-type {\n",
              "        vertical-align: middle;\n",
              "    }\n",
              "\n",
              "    .dataframe tbody tr th {\n",
              "        vertical-align: top;\n",
              "    }\n",
              "\n",
              "    .dataframe thead th {\n",
              "        text-align: right;\n",
              "    }\n",
              "</style>\n",
              "<table border=\"1\" class=\"dataframe\">\n",
              "  <thead>\n",
              "    <tr style=\"text-align: right;\">\n",
              "      <th></th>\n",
              "      <th>review</th>\n",
              "      <th>rating</th>\n",
              "    </tr>\n",
              "  </thead>\n",
              "  <tbody>\n",
              "    <tr>\n",
              "      <th>0</th>\n",
              "      <td>Love this razor. I like the size and the fact ...</td>\n",
              "      <td>5</td>\n",
              "    </tr>\n",
              "    <tr>\n",
              "      <th>1</th>\n",
              "      <td>Doesn't seem to dry my nails any faster.</td>\n",
              "      <td>3</td>\n",
              "    </tr>\n",
              "    <tr>\n",
              "      <th>2</th>\n",
              "      <td>just what we needed</td>\n",
              "      <td>4</td>\n",
              "    </tr>\n",
              "    <tr>\n",
              "      <th>3</th>\n",
              "      <td>This lotus is great. Good potency. My suggesti...</td>\n",
              "      <td>5</td>\n",
              "    </tr>\n",
              "    <tr>\n",
              "      <th>4</th>\n",
              "      <td>My oldest son has really bad eczema that flare...</td>\n",
              "      <td>5</td>\n",
              "    </tr>\n",
              "  </tbody>\n",
              "</table>\n",
              "</div>\n",
              "      <button class=\"colab-df-convert\" onclick=\"convertToInteractive('df-f45cf377-5835-4101-b5b7-9eb69f550206')\"\n",
              "              title=\"Convert this dataframe to an interactive table.\"\n",
              "              style=\"display:none;\">\n",
              "        \n",
              "  <svg xmlns=\"http://www.w3.org/2000/svg\" height=\"24px\"viewBox=\"0 0 24 24\"\n",
              "       width=\"24px\">\n",
              "    <path d=\"M0 0h24v24H0V0z\" fill=\"none\"/>\n",
              "    <path d=\"M18.56 5.44l.94 2.06.94-2.06 2.06-.94-2.06-.94-.94-2.06-.94 2.06-2.06.94zm-11 1L8.5 8.5l.94-2.06 2.06-.94-2.06-.94L8.5 2.5l-.94 2.06-2.06.94zm10 10l.94 2.06.94-2.06 2.06-.94-2.06-.94-.94-2.06-.94 2.06-2.06.94z\"/><path d=\"M17.41 7.96l-1.37-1.37c-.4-.4-.92-.59-1.43-.59-.52 0-1.04.2-1.43.59L10.3 9.45l-7.72 7.72c-.78.78-.78 2.05 0 2.83L4 21.41c.39.39.9.59 1.41.59.51 0 1.02-.2 1.41-.59l7.78-7.78 2.81-2.81c.8-.78.8-2.07 0-2.86zM5.41 20L4 18.59l7.72-7.72 1.47 1.35L5.41 20z\"/>\n",
              "  </svg>\n",
              "      </button>\n",
              "      \n",
              "  <style>\n",
              "    .colab-df-container {\n",
              "      display:flex;\n",
              "      flex-wrap:wrap;\n",
              "      gap: 12px;\n",
              "    }\n",
              "\n",
              "    .colab-df-convert {\n",
              "      background-color: #E8F0FE;\n",
              "      border: none;\n",
              "      border-radius: 50%;\n",
              "      cursor: pointer;\n",
              "      display: none;\n",
              "      fill: #1967D2;\n",
              "      height: 32px;\n",
              "      padding: 0 0 0 0;\n",
              "      width: 32px;\n",
              "    }\n",
              "\n",
              "    .colab-df-convert:hover {\n",
              "      background-color: #E2EBFA;\n",
              "      box-shadow: 0px 1px 2px rgba(60, 64, 67, 0.3), 0px 1px 3px 1px rgba(60, 64, 67, 0.15);\n",
              "      fill: #174EA6;\n",
              "    }\n",
              "\n",
              "    [theme=dark] .colab-df-convert {\n",
              "      background-color: #3B4455;\n",
              "      fill: #D2E3FC;\n",
              "    }\n",
              "\n",
              "    [theme=dark] .colab-df-convert:hover {\n",
              "      background-color: #434B5C;\n",
              "      box-shadow: 0px 1px 3px 1px rgba(0, 0, 0, 0.15);\n",
              "      filter: drop-shadow(0px 1px 2px rgba(0, 0, 0, 0.3));\n",
              "      fill: #FFFFFF;\n",
              "    }\n",
              "  </style>\n",
              "\n",
              "      <script>\n",
              "        const buttonEl =\n",
              "          document.querySelector('#df-f45cf377-5835-4101-b5b7-9eb69f550206 button.colab-df-convert');\n",
              "        buttonEl.style.display =\n",
              "          google.colab.kernel.accessAllowed ? 'block' : 'none';\n",
              "\n",
              "        async function convertToInteractive(key) {\n",
              "          const element = document.querySelector('#df-f45cf377-5835-4101-b5b7-9eb69f550206');\n",
              "          const dataTable =\n",
              "            await google.colab.kernel.invokeFunction('convertToInteractive',\n",
              "                                                     [key], {});\n",
              "          if (!dataTable) return;\n",
              "\n",
              "          const docLinkHtml = 'Like what you see? Visit the ' +\n",
              "            '<a target=\"_blank\" href=https://colab.research.google.com/notebooks/data_table.ipynb>data table notebook</a>'\n",
              "            + ' to learn more about interactive tables.';\n",
              "          element.innerHTML = '';\n",
              "          dataTable['output_type'] = 'display_data';\n",
              "          await google.colab.output.renderOutput(dataTable, element);\n",
              "          const docLink = document.createElement('div');\n",
              "          docLink.innerHTML = docLinkHtml;\n",
              "          element.appendChild(docLink);\n",
              "        }\n",
              "      </script>\n",
              "    </div>\n",
              "  </div>\n",
              "  "
            ]
          },
          "metadata": {},
          "execution_count": 65
        }
      ],
      "source": [
        "#Rename the columns as \"text\" and \"rating\" text=user review and rating=user rating\n",
        "new_data = new_data.rename(columns={'13': 'review','7' : 'rating'})\n",
        "new_data.head()"
      ]
    },
    {
      "cell_type": "markdown",
      "source": [
        "Now, as a part of data visualisation I am counting the frequency of each rating. "
      ],
      "metadata": {
        "id": "1H5VNm5BJNAN"
      }
    },
    {
      "cell_type": "code",
      "execution_count": 66,
      "metadata": {
        "colab": {
          "base_uri": "https://localhost:8080/"
        },
        "id": "b_mgP9V98JFn",
        "outputId": "791e76f1-747b-476a-fb43-76acfa2265f6"
      },
      "outputs": [
        {
          "output_type": "stream",
          "name": "stdout",
          "text": [
            "5    6399\n",
            "4    1454\n",
            "1     874\n",
            "3     760\n",
            "2     513\n",
            "Name: rating, dtype: int64\n"
          ]
        }
      ],
      "source": [
        "# Count the number of occurrences (frequency) of each rating in the \"rating\" column\n",
        "rating_counts = new_data['rating'].value_counts()\n",
        "print(rating_counts)"
      ]
    },
    {
      "cell_type": "code",
      "source": [
        "#Visualizing the frequency of different rating groups using a bar diagram\n",
        "import numpy as np\n",
        "x= np.array([874,513,760,1454,6399])\n",
        "y=np.array([1,2,3,4,5])\n",
        "#plt.hist2d(y, x)\n",
        "plt.bar(y, x)\n",
        "# set the plot title and axis labels\n",
        "plt.xlabel('Rating')\n",
        "plt.ylabel('Frequency')\n",
        "plt.ylim([0, 7000])\n"
      ],
      "metadata": {
        "colab": {
          "base_uri": "https://localhost:8080/",
          "height": 472
        },
        "id": "LpISIgUSK_t5",
        "outputId": "3689d4a8-a84c-4215-9156-f28c094ee65b"
      },
      "execution_count": 67,
      "outputs": [
        {
          "output_type": "execute_result",
          "data": {
            "text/plain": [
              "(0.0, 7000.0)"
            ]
          },
          "metadata": {},
          "execution_count": 67
        },
        {
          "output_type": "display_data",
          "data": {
            "text/plain": [
              "<Figure size 640x480 with 1 Axes>"
            ],
            "image/png": "[encoded data removed]"
          },
          "metadata": {}
        }
      ]
    },
    {
      "cell_type": "markdown",
      "source": [
        "**Step 02: Pre processing the data** Preprocessing is one of the most important steps of a machine learning project. It improves the quality of input data and make it more suitable for analysis. "
      ],
      "metadata": {
        "id": "3yqSC8I3j3wP"
      }
    },
    {
      "cell_type": "markdown",
      "source": [
        "There are many preprocessing techniques available. In this project, I am using Texthero. Texthero is a python package for text based dataset. More resources can be found here https://texthero.org/docs/getting-started "
      ],
      "metadata": {
        "id": "eKCM3KvVJ7cE"
      }
    },
    {
      "cell_type": "code",
      "execution_count": 12,
      "metadata": {
        "colab": {
          "base_uri": "https://localhost:8080/"
        },
        "id": "nPchxQS9Gsyy",
        "outputId": "6a2edf57-a0be-476f-b978-f12bbd407002"
      },
      "outputs": [
        {
          "output_type": "stream",
          "name": "stdout",
          "text": [
            "Looking in indexes: https://pypi.org/simple, https://us-python.pkg.dev/colab-wheels/public/simple/\n",
            "Collecting texthero\n",
            "  Downloading texthero-1.1.0-py3-none-any.whl (24 kB)\n",
            "Collecting spacy<3.0.0\n",
            "  Downloading spacy-2.3.9-cp39-cp39-manylinux_2_17_x86_64.manylinux2014_x86_64.whl (4.9 MB)\n",
            "\u001b[2K     \u001b[90m━━━━━━━━━━━━━━━━━━━━━━━━━━━━━━━━━━━━━━━━\u001b[0m \u001b[32m4.9/4.9 MB\u001b[0m \u001b[31m35.8 MB/s\u001b[0m eta \u001b[36m0:00:00\u001b[0m\n",
            "\u001b[?25hRequirement already satisfied: nltk>=3.3 in /usr/local/lib/python3.9/dist-packages (from texthero) (3.8.1)\n",
            "Requirement already satisfied: matplotlib>=3.1.0 in /usr/local/lib/python3.9/dist-packages (from texthero) (3.7.1)\n",
            "Requirement already satisfied: tqdm>=4.3 in /usr/local/lib/python3.9/dist-packages (from texthero) (4.65.0)\n",
            "Requirement already satisfied: pandas>=1.0.2 in /usr/local/lib/python3.9/dist-packages (from texthero) (1.5.3)\n",
            "Requirement already satisfied: numpy>=1.17 in /usr/local/lib/python3.9/dist-packages (from texthero) (1.22.4)\n",
            "Requirement already satisfied: plotly>=4.2.0 in /usr/local/lib/python3.9/dist-packages (from texthero) (5.13.1)\n",
            "Requirement already satisfied: scikit-learn>=0.22 in /usr/local/lib/python3.9/dist-packages (from texthero) (1.2.2)\n",
            "Collecting unidecode>=1.1.1\n",
            "  Downloading Unidecode-1.3.6-py3-none-any.whl (235 kB)\n",
            "\u001b[2K     \u001b[90m━━━━━━━━━━━━━━━━━━━━━━━━━━━━━━━━━━━━━━\u001b[0m \u001b[32m235.9/235.9 kB\u001b[0m \u001b[31m18.4 MB/s\u001b[0m eta \u001b[36m0:00:00\u001b[0m\n",
            "\u001b[?25hCollecting gensim<4.0,>=3.6.0\n",
            "  Downloading gensim-3.8.3.tar.gz (23.4 MB)\n",
            "\u001b[2K     \u001b[90m━━━━━━━━━━━━━━━━━━━━━━━━━━━━━━━━━━━━━━━━\u001b[0m \u001b[32m23.4/23.4 MB\u001b[0m \u001b[31m29.8 MB/s\u001b[0m eta \u001b[36m0:00:00\u001b[0m\n",
            "\u001b[?25h  Preparing metadata (setup.py) ... \u001b[?25l\u001b[?25hdone\n",
            "Requirement already satisfied: wordcloud>=1.5.0 in /usr/local/lib/python3.9/dist-packages (from texthero) (1.8.2.2)\n",
            "Requirement already satisfied: scipy>=0.18.1 in /usr/local/lib/python3.9/dist-packages (from gensim<4.0,>=3.6.0->texthero) (1.10.1)\n",
            "Requirement already satisfied: six>=1.5.0 in /usr/local/lib/python3.9/dist-packages (from gensim<4.0,>=3.6.0->texthero) (1.16.0)\n",
            "Requirement already satisfied: smart_open>=1.8.1 in /usr/local/lib/python3.9/dist-packages (from gensim<4.0,>=3.6.0->texthero) (6.3.0)\n",
            "Requirement already satisfied: python-dateutil>=2.7 in /usr/local/lib/python3.9/dist-packages (from matplotlib>=3.1.0->texthero) (2.8.2)\n",
            "Requirement already satisfied: contourpy>=1.0.1 in /usr/local/lib/python3.9/dist-packages (from matplotlib>=3.1.0->texthero) (1.0.7)\n",
            "Requirement already satisfied: fonttools>=4.22.0 in /usr/local/lib/python3.9/dist-packages (from matplotlib>=3.1.0->texthero) (4.39.3)\n",
            "Requirement already satisfied: kiwisolver>=1.0.1 in /usr/local/lib/python3.9/dist-packages (from matplotlib>=3.1.0->texthero) (1.4.4)\n",
            "Requirement already satisfied: packaging>=20.0 in /usr/local/lib/python3.9/dist-packages (from matplotlib>=3.1.0->texthero) (23.1)\n",
            "Requirement already satisfied: pillow>=6.2.0 in /usr/local/lib/python3.9/dist-packages (from matplotlib>=3.1.0->texthero) (8.4.0)\n",
            "Requirement already satisfied: importlib-resources>=3.2.0 in /usr/local/lib/python3.9/dist-packages (from matplotlib>=3.1.0->texthero) (5.12.0)\n",
            "Requirement already satisfied: pyparsing>=2.3.1 in /usr/local/lib/python3.9/dist-packages (from matplotlib>=3.1.0->texthero) (3.0.9)\n",
            "Requirement already satisfied: cycler>=0.10 in /usr/local/lib/python3.9/dist-packages (from matplotlib>=3.1.0->texthero) (0.11.0)\n",
            "Requirement already satisfied: regex>=2021.8.3 in /usr/local/lib/python3.9/dist-packages (from nltk>=3.3->texthero) (2022.10.31)\n",
            "Requirement already satisfied: click in /usr/local/lib/python3.9/dist-packages (from nltk>=3.3->texthero) (8.1.3)\n",
            "Requirement already satisfied: joblib in /usr/local/lib/python3.9/dist-packages (from nltk>=3.3->texthero) (1.2.0)\n",
            "Requirement already satisfied: pytz>=2020.1 in /usr/local/lib/python3.9/dist-packages (from pandas>=1.0.2->texthero) (2022.7.1)\n",
            "Requirement already satisfied: tenacity>=6.2.0 in /usr/local/lib/python3.9/dist-packages (from plotly>=4.2.0->texthero) (8.2.2)\n",
            "Requirement already satisfied: threadpoolctl>=2.0.0 in /usr/local/lib/python3.9/dist-packages (from scikit-learn>=0.22->texthero) (3.1.0)\n",
            "Requirement already satisfied: setuptools in /usr/local/lib/python3.9/dist-packages (from spacy<3.0.0->texthero) (67.6.1)\n",
            "Requirement already satisfied: cymem<2.1.0,>=2.0.2 in /usr/local/lib/python3.9/dist-packages (from spacy<3.0.0->texthero) (2.0.7)\n",
            "Requirement already satisfied: murmurhash<1.1.0,>=0.28.0 in /usr/local/lib/python3.9/dist-packages (from spacy<3.0.0->texthero) (1.0.9)\n",
            "Collecting wasabi<1.1.0,>=0.4.0\n",
            "  Downloading wasabi-0.10.1-py3-none-any.whl (26 kB)\n",
            "Requirement already satisfied: requests<3.0.0,>=2.13.0 in /usr/local/lib/python3.9/dist-packages (from spacy<3.0.0->texthero) (2.27.1)\n",
            "Requirement already satisfied: preshed<3.1.0,>=3.0.2 in /usr/local/lib/python3.9/dist-packages (from spacy<3.0.0->texthero) (3.0.8)\n",
            "Collecting plac<1.2.0,>=0.9.6\n",
            "  Downloading plac-1.1.3-py2.py3-none-any.whl (20 kB)\n",
            "Collecting catalogue<1.1.0,>=0.0.7\n",
            "  Downloading catalogue-1.0.2-py2.py3-none-any.whl (16 kB)\n",
            "Collecting srsly<1.1.0,>=1.0.2\n",
            "  Downloading srsly-1.0.6-cp39-cp39-manylinux_2_17_x86_64.manylinux2014_x86_64.whl (209 kB)\n",
            "\u001b[2K     \u001b[90m━━━━━━━━━━━━━━━━━━━━━━━━━━━━━━━━━━━━━━\u001b[0m \u001b[32m209.2/209.2 kB\u001b[0m \u001b[31m23.2 MB/s\u001b[0m eta \u001b[36m0:00:00\u001b[0m\n",
            "\u001b[?25hRequirement already satisfied: blis<0.8.0,>=0.4.0 in /usr/local/lib/python3.9/dist-packages (from spacy<3.0.0->texthero) (0.7.9)\n",
            "Collecting thinc<7.5.0,>=7.4.1\n",
            "  Downloading thinc-7.4.6-cp39-cp39-manylinux_2_17_x86_64.manylinux2014_x86_64.whl (1.1 MB)\n",
            "\u001b[2K     \u001b[90m━━━━━━━━━━━━━━━━━━━━━━━━━━━━━━━━━━━━━━━━\u001b[0m \u001b[32m1.1/1.1 MB\u001b[0m \u001b[31m60.3 MB/s\u001b[0m eta \u001b[36m0:00:00\u001b[0m\n",
            "\u001b[?25hRequirement already satisfied: zipp>=3.1.0 in /usr/local/lib/python3.9/dist-packages (from importlib-resources>=3.2.0->matplotlib>=3.1.0->texthero) (3.15.0)\n",
            "Requirement already satisfied: idna<4,>=2.5 in /usr/local/lib/python3.9/dist-packages (from requests<3.0.0,>=2.13.0->spacy<3.0.0->texthero) (3.4)\n",
            "Requirement already satisfied: urllib3<1.27,>=1.21.1 in /usr/local/lib/python3.9/dist-packages (from requests<3.0.0,>=2.13.0->spacy<3.0.0->texthero) (1.26.15)\n",
            "Requirement already satisfied: charset-normalizer~=2.0.0 in /usr/local/lib/python3.9/dist-packages (from requests<3.0.0,>=2.13.0->spacy<3.0.0->texthero) (2.0.12)\n",
            "Requirement already satisfied: certifi>=2017.4.17 in /usr/local/lib/python3.9/dist-packages (from requests<3.0.0,>=2.13.0->spacy<3.0.0->texthero) (2022.12.7)\n",
            "Building wheels for collected packages: gensim\n",
            "  Building wheel for gensim (setup.py) ... \u001b[?25l\u001b[?25hdone\n",
            "  Created wheel for gensim: filename=gensim-3.8.3-cp39-cp39-linux_x86_64.whl size=26527909 sha256=0a747cd891edd62f205e3bc1ec194f8c0beceeea13e25ff031810855765570b7\n",
            "  Stored in directory: /root/.cache/pip/wheels/ca/5d/af/618594ec2f28608c1d6ee7d2b7e95a3e9b06551e3b80a491d6\n",
            "Successfully built gensim\n",
            "Installing collected packages: wasabi, plac, unidecode, srsly, catalogue, thinc, gensim, spacy, texthero\n",
            "  Attempting uninstall: wasabi\n",
            "    Found existing installation: wasabi 1.1.1\n",
            "    Uninstalling wasabi-1.1.1:\n",
            "      Successfully uninstalled wasabi-1.1.1\n",
            "  Attempting uninstall: srsly\n",
            "    Found existing installation: srsly 2.4.6\n",
            "    Uninstalling srsly-2.4.6:\n",
            "      Successfully uninstalled srsly-2.4.6\n",
            "  Attempting uninstall: catalogue\n",
            "    Found existing installation: catalogue 2.0.8\n",
            "    Uninstalling catalogue-2.0.8:\n",
            "      Successfully uninstalled catalogue-2.0.8\n",
            "  Attempting uninstall: thinc\n",
            "    Found existing installation: thinc 8.1.9\n",
            "    Uninstalling thinc-8.1.9:\n",
            "      Successfully uninstalled thinc-8.1.9\n",
            "  Attempting uninstall: gensim\n",
            "    Found existing installation: gensim 4.3.1\n",
            "    Uninstalling gensim-4.3.1:\n",
            "      Successfully uninstalled gensim-4.3.1\n",
            "  Attempting uninstall: spacy\n",
            "    Found existing installation: spacy 3.5.2\n",
            "    Uninstalling spacy-3.5.2:\n",
            "      Successfully uninstalled spacy-3.5.2\n",
            "\u001b[31mERROR: pip's dependency resolver does not currently take into account all the packages that are installed. This behaviour is the source of the following dependency conflicts.\n",
            "en-core-web-sm 3.5.0 requires spacy<3.6.0,>=3.5.0, but you have spacy 2.3.9 which is incompatible.\n",
            "confection 0.0.4 requires srsly<3.0.0,>=2.4.0, but you have srsly 1.0.6 which is incompatible.\u001b[0m\u001b[31m\n",
            "\u001b[0mSuccessfully installed catalogue-1.0.2 gensim-3.8.3 plac-1.1.3 spacy-2.3.9 srsly-1.0.6 texthero-1.1.0 thinc-7.4.6 unidecode-1.3.6 wasabi-0.10.1\n"
          ]
        }
      ],
      "source": [
        "#installing required packages \n",
        "!pip install texthero"
      ]
    },
    {
      "cell_type": "code",
      "execution_count": 13,
      "metadata": {
        "colab": {
          "base_uri": "https://localhost:8080/"
        },
        "id": "SeoZGBAzIFyB",
        "outputId": "aafc9a5b-1c89-4e63-94e3-5668fbc9763e"
      },
      "outputs": [
        {
          "output_type": "stream",
          "name": "stdout",
          "text": [
            "Looking in indexes: https://pypi.org/simple, https://us-python.pkg.dev/colab-wheels/public/simple/\n",
            "Requirement already satisfied: texthero in /usr/local/lib/python3.9/dist-packages (1.1.0)\n",
            "Requirement already satisfied: numpy>=1.17 in /usr/local/lib/python3.9/dist-packages (from texthero) (1.22.4)\n",
            "Requirement already satisfied: nltk>=3.3 in /usr/local/lib/python3.9/dist-packages (from texthero) (3.8.1)\n",
            "Requirement already satisfied: tqdm>=4.3 in /usr/local/lib/python3.9/dist-packages (from texthero) (4.65.0)\n",
            "Requirement already satisfied: unidecode>=1.1.1 in /usr/local/lib/python3.9/dist-packages (from texthero) (1.3.6)\n",
            "Requirement already satisfied: pandas>=1.0.2 in /usr/local/lib/python3.9/dist-packages (from texthero) (1.5.3)\n",
            "Requirement already satisfied: wordcloud>=1.5.0 in /usr/local/lib/python3.9/dist-packages (from texthero) (1.8.2.2)\n",
            "Requirement already satisfied: gensim<4.0,>=3.6.0 in /usr/local/lib/python3.9/dist-packages (from texthero) (3.8.3)\n",
            "Requirement already satisfied: spacy<3.0.0 in /usr/local/lib/python3.9/dist-packages (from texthero) (2.3.9)\n",
            "Requirement already satisfied: matplotlib>=3.1.0 in /usr/local/lib/python3.9/dist-packages (from texthero) (3.7.1)\n",
            "Requirement already satisfied: plotly>=4.2.0 in /usr/local/lib/python3.9/dist-packages (from texthero) (5.13.1)\n",
            "Requirement already satisfied: scikit-learn>=0.22 in /usr/local/lib/python3.9/dist-packages (from texthero) (1.2.2)\n",
            "Requirement already satisfied: scipy>=0.18.1 in /usr/local/lib/python3.9/dist-packages (from gensim<4.0,>=3.6.0->texthero) (1.10.1)\n",
            "Requirement already satisfied: six>=1.5.0 in /usr/local/lib/python3.9/dist-packages (from gensim<4.0,>=3.6.0->texthero) (1.16.0)\n",
            "Requirement already satisfied: smart-open>=1.8.1 in /usr/local/lib/python3.9/dist-packages (from gensim<4.0,>=3.6.0->texthero) (6.3.0)\n",
            "Requirement already satisfied: fonttools>=4.22.0 in /usr/local/lib/python3.9/dist-packages (from matplotlib>=3.1.0->texthero) (4.39.3)\n",
            "Requirement already satisfied: kiwisolver>=1.0.1 in /usr/local/lib/python3.9/dist-packages (from matplotlib>=3.1.0->texthero) (1.4.4)\n",
            "Requirement already satisfied: pillow>=6.2.0 in /usr/local/lib/python3.9/dist-packages (from matplotlib>=3.1.0->texthero) (8.4.0)\n",
            "Requirement already satisfied: pyparsing>=2.3.1 in /usr/local/lib/python3.9/dist-packages (from matplotlib>=3.1.0->texthero) (3.0.9)\n",
            "Requirement already satisfied: cycler>=0.10 in /usr/local/lib/python3.9/dist-packages (from matplotlib>=3.1.0->texthero) (0.11.0)\n",
            "Requirement already satisfied: python-dateutil>=2.7 in /usr/local/lib/python3.9/dist-packages (from matplotlib>=3.1.0->texthero) (2.8.2)\n",
            "Requirement already satisfied: importlib-resources>=3.2.0 in /usr/local/lib/python3.9/dist-packages (from matplotlib>=3.1.0->texthero) (5.12.0)\n",
            "Requirement already satisfied: contourpy>=1.0.1 in /usr/local/lib/python3.9/dist-packages (from matplotlib>=3.1.0->texthero) (1.0.7)\n",
            "Requirement already satisfied: packaging>=20.0 in /usr/local/lib/python3.9/dist-packages (from matplotlib>=3.1.0->texthero) (23.1)\n",
            "Requirement already satisfied: click in /usr/local/lib/python3.9/dist-packages (from nltk>=3.3->texthero) (8.1.3)\n",
            "Requirement already satisfied: regex>=2021.8.3 in /usr/local/lib/python3.9/dist-packages (from nltk>=3.3->texthero) (2022.10.31)\n",
            "Requirement already satisfied: joblib in /usr/local/lib/python3.9/dist-packages (from nltk>=3.3->texthero) (1.2.0)\n",
            "Requirement already satisfied: pytz>=2020.1 in /usr/local/lib/python3.9/dist-packages (from pandas>=1.0.2->texthero) (2022.7.1)\n",
            "Requirement already satisfied: tenacity>=6.2.0 in /usr/local/lib/python3.9/dist-packages (from plotly>=4.2.0->texthero) (8.2.2)\n",
            "Requirement already satisfied: threadpoolctl>=2.0.0 in /usr/local/lib/python3.9/dist-packages (from scikit-learn>=0.22->texthero) (3.1.0)\n",
            "Requirement already satisfied: preshed<3.1.0,>=3.0.2 in /usr/local/lib/python3.9/dist-packages (from spacy<3.0.0->texthero) (3.0.8)\n",
            "Requirement already satisfied: cymem<2.1.0,>=2.0.2 in /usr/local/lib/python3.9/dist-packages (from spacy<3.0.0->texthero) (2.0.7)\n",
            "Requirement already satisfied: catalogue<1.1.0,>=0.0.7 in /usr/local/lib/python3.9/dist-packages (from spacy<3.0.0->texthero) (1.0.2)\n",
            "Requirement already satisfied: wasabi<1.1.0,>=0.4.0 in /usr/local/lib/python3.9/dist-packages (from spacy<3.0.0->texthero) (0.10.1)\n",
            "Requirement already satisfied: blis<0.8.0,>=0.4.0 in /usr/local/lib/python3.9/dist-packages (from spacy<3.0.0->texthero) (0.7.9)\n",
            "Requirement already satisfied: thinc<7.5.0,>=7.4.1 in /usr/local/lib/python3.9/dist-packages (from spacy<3.0.0->texthero) (7.4.6)\n",
            "Requirement already satisfied: plac<1.2.0,>=0.9.6 in /usr/local/lib/python3.9/dist-packages (from spacy<3.0.0->texthero) (1.1.3)\n",
            "Requirement already satisfied: setuptools in /usr/local/lib/python3.9/dist-packages (from spacy<3.0.0->texthero) (67.6.1)\n",
            "Requirement already satisfied: requests<3.0.0,>=2.13.0 in /usr/local/lib/python3.9/dist-packages (from spacy<3.0.0->texthero) (2.27.1)\n",
            "Requirement already satisfied: srsly<1.1.0,>=1.0.2 in /usr/local/lib/python3.9/dist-packages (from spacy<3.0.0->texthero) (1.0.6)\n",
            "Requirement already satisfied: murmurhash<1.1.0,>=0.28.0 in /usr/local/lib/python3.9/dist-packages (from spacy<3.0.0->texthero) (1.0.9)\n",
            "Requirement already satisfied: zipp>=3.1.0 in /usr/local/lib/python3.9/dist-packages (from importlib-resources>=3.2.0->matplotlib>=3.1.0->texthero) (3.15.0)\n",
            "Requirement already satisfied: charset-normalizer~=2.0.0 in /usr/local/lib/python3.9/dist-packages (from requests<3.0.0,>=2.13.0->spacy<3.0.0->texthero) (2.0.12)\n",
            "Requirement already satisfied: certifi>=2017.4.17 in /usr/local/lib/python3.9/dist-packages (from requests<3.0.0,>=2.13.0->spacy<3.0.0->texthero) (2022.12.7)\n",
            "Requirement already satisfied: urllib3<1.27,>=1.21.1 in /usr/local/lib/python3.9/dist-packages (from requests<3.0.0,>=2.13.0->spacy<3.0.0->texthero) (1.26.15)\n",
            "Requirement already satisfied: idna<4,>=2.5 in /usr/local/lib/python3.9/dist-packages (from requests<3.0.0,>=2.13.0->spacy<3.0.0->texthero) (3.4)\n"
          ]
        }
      ],
      "source": [
        "!pip install texthero -U\n"
      ]
    },
    {
      "cell_type": "code",
      "execution_count": 14,
      "metadata": {
        "colab": {
          "base_uri": "https://localhost:8080/"
        },
        "id": "sQ_N8Nh7IarP",
        "outputId": "1f0495f1-9f01-4094-e0a3-14cddee9276c"
      },
      "outputs": [
        {
          "output_type": "stream",
          "name": "stdout",
          "text": [
            "Looking in indexes: https://pypi.org/simple, https://us-python.pkg.dev/colab-wheels/public/simple/\n",
            "Requirement already satisfied: spacy in /usr/local/lib/python3.9/dist-packages (2.3.9)\n",
            "Collecting spacy\n",
            "  Downloading spacy-3.5.2-cp39-cp39-manylinux_2_17_x86_64.manylinux2014_x86_64.whl (6.6 MB)\n",
            "\u001b[2K     \u001b[90m━━━━━━━━━━━━━━━━━━━━━━━━━━━━━━━━━━━━━━━━\u001b[0m \u001b[32m6.6/6.6 MB\u001b[0m \u001b[31m25.2 MB/s\u001b[0m eta \u001b[36m0:00:00\u001b[0m\n",
            "\u001b[?25hCollecting srsly<3.0.0,>=2.4.3\n",
            "  Downloading srsly-2.4.6-cp39-cp39-manylinux_2_17_x86_64.manylinux2014_x86_64.whl (491 kB)\n",
            "\u001b[2K     \u001b[90m━━━━━━━━━━━━━━━━━━━━━━━━━━━━━━━━━━━━━━\u001b[0m \u001b[32m491.6/491.6 kB\u001b[0m \u001b[31m26.5 MB/s\u001b[0m eta \u001b[36m0:00:00\u001b[0m\n",
            "\u001b[?25hRequirement already satisfied: pathy>=0.10.0 in /usr/local/lib/python3.9/dist-packages (from spacy) (0.10.1)\n",
            "Requirement already satisfied: tqdm<5.0.0,>=4.38.0 in /usr/local/lib/python3.9/dist-packages (from spacy) (4.65.0)\n",
            "Requirement already satisfied: jinja2 in /usr/local/lib/python3.9/dist-packages (from spacy) (3.1.2)\n",
            "Requirement already satisfied: setuptools in /usr/local/lib/python3.9/dist-packages (from spacy) (67.6.1)\n",
            "Requirement already satisfied: spacy-legacy<3.1.0,>=3.0.11 in /usr/local/lib/python3.9/dist-packages (from spacy) (3.0.12)\n",
            "Requirement already satisfied: cymem<2.1.0,>=2.0.2 in /usr/local/lib/python3.9/dist-packages (from spacy) (2.0.7)\n",
            "Requirement already satisfied: spacy-loggers<2.0.0,>=1.0.0 in /usr/local/lib/python3.9/dist-packages (from spacy) (1.0.4)\n",
            "Requirement already satisfied: preshed<3.1.0,>=3.0.2 in /usr/local/lib/python3.9/dist-packages (from spacy) (3.0.8)\n",
            "Requirement already satisfied: murmurhash<1.1.0,>=0.28.0 in /usr/local/lib/python3.9/dist-packages (from spacy) (1.0.9)\n",
            "Requirement already satisfied: requests<3.0.0,>=2.13.0 in /usr/local/lib/python3.9/dist-packages (from spacy) (2.27.1)\n",
            "Requirement already satisfied: pydantic!=1.8,!=1.8.1,<1.11.0,>=1.7.4 in /usr/local/lib/python3.9/dist-packages (from spacy) (1.10.7)\n",
            "Collecting thinc<8.2.0,>=8.1.8\n",
            "  Downloading thinc-8.1.9-cp39-cp39-manylinux_2_17_x86_64.manylinux2014_x86_64.whl (922 kB)\n",
            "\u001b[2K     \u001b[90m━━━━━━━━━━━━━━━━━━━━━━━━━━━━━━━━━━━━━━\u001b[0m \u001b[32m922.5/922.5 kB\u001b[0m \u001b[31m31.9 MB/s\u001b[0m eta \u001b[36m0:00:00\u001b[0m\n",
            "\u001b[?25hRequirement already satisfied: wasabi<1.2.0,>=0.9.1 in /usr/local/lib/python3.9/dist-packages (from spacy) (0.10.1)\n",
            "Requirement already satisfied: numpy>=1.15.0 in /usr/local/lib/python3.9/dist-packages (from spacy) (1.22.4)\n",
            "Requirement already satisfied: typer<0.8.0,>=0.3.0 in /usr/local/lib/python3.9/dist-packages (from spacy) (0.7.0)\n",
            "Requirement already satisfied: langcodes<4.0.0,>=3.2.0 in /usr/local/lib/python3.9/dist-packages (from spacy) (3.3.0)\n",
            "Collecting catalogue<2.1.0,>=2.0.6\n",
            "  Downloading catalogue-2.0.8-py3-none-any.whl (17 kB)\n",
            "Requirement already satisfied: packaging>=20.0 in /usr/local/lib/python3.9/dist-packages (from spacy) (23.1)\n",
            "Requirement already satisfied: smart-open<7.0.0,>=5.2.1 in /usr/local/lib/python3.9/dist-packages (from spacy) (6.3.0)\n",
            "Requirement already satisfied: typing-extensions>=4.2.0 in /usr/local/lib/python3.9/dist-packages (from pydantic!=1.8,!=1.8.1,<1.11.0,>=1.7.4->spacy) (4.5.0)\n",
            "Requirement already satisfied: charset-normalizer~=2.0.0 in /usr/local/lib/python3.9/dist-packages (from requests<3.0.0,>=2.13.0->spacy) (2.0.12)\n",
            "Requirement already satisfied: certifi>=2017.4.17 in /usr/local/lib/python3.9/dist-packages (from requests<3.0.0,>=2.13.0->spacy) (2022.12.7)\n",
            "Requirement already satisfied: idna<4,>=2.5 in /usr/local/lib/python3.9/dist-packages (from requests<3.0.0,>=2.13.0->spacy) (3.4)\n",
            "Requirement already satisfied: urllib3<1.27,>=1.21.1 in /usr/local/lib/python3.9/dist-packages (from requests<3.0.0,>=2.13.0->spacy) (1.26.15)\n",
            "Requirement already satisfied: confection<1.0.0,>=0.0.1 in /usr/local/lib/python3.9/dist-packages (from thinc<8.2.0,>=8.1.8->spacy) (0.0.4)\n",
            "Requirement already satisfied: blis<0.8.0,>=0.7.8 in /usr/local/lib/python3.9/dist-packages (from thinc<8.2.0,>=8.1.8->spacy) (0.7.9)\n",
            "Requirement already satisfied: click<9.0.0,>=7.1.1 in /usr/local/lib/python3.9/dist-packages (from typer<0.8.0,>=0.3.0->spacy) (8.1.3)\n",
            "Requirement already satisfied: MarkupSafe>=2.0 in /usr/local/lib/python3.9/dist-packages (from jinja2->spacy) (2.1.2)\n",
            "Installing collected packages: catalogue, srsly, thinc, spacy\n",
            "  Attempting uninstall: catalogue\n",
            "    Found existing installation: catalogue 1.0.2\n",
            "    Uninstalling catalogue-1.0.2:\n",
            "      Successfully uninstalled catalogue-1.0.2\n",
            "  Attempting uninstall: srsly\n",
            "    Found existing installation: srsly 1.0.6\n",
            "    Uninstalling srsly-1.0.6:\n",
            "      Successfully uninstalled srsly-1.0.6\n",
            "  Attempting uninstall: thinc\n",
            "    Found existing installation: thinc 7.4.6\n",
            "    Uninstalling thinc-7.4.6:\n",
            "      Successfully uninstalled thinc-7.4.6\n",
            "  Attempting uninstall: spacy\n",
            "    Found existing installation: spacy 2.3.9\n",
            "    Uninstalling spacy-2.3.9:\n",
            "      Successfully uninstalled spacy-2.3.9\n",
            "\u001b[31mERROR: pip's dependency resolver does not currently take into account all the packages that are installed. This behaviour is the source of the following dependency conflicts.\n",
            "texthero 1.1.0 requires spacy<3.0.0, but you have spacy 3.5.2 which is incompatible.\u001b[0m\u001b[31m\n",
            "\u001b[0mSuccessfully installed catalogue-2.0.8 spacy-3.5.2 srsly-2.4.6 thinc-8.1.9\n"
          ]
        }
      ],
      "source": [
        "!pip install -U spacy"
      ]
    },
    {
      "cell_type": "code",
      "execution_count": 68,
      "metadata": {
        "id": "rvR9-N3cIyiF"
      },
      "outputs": [],
      "source": [
        "import texthero as hero"
      ]
    },
    {
      "cell_type": "markdown",
      "source": [
        "For this project, I am applying 3 pre-processing tasks creating a custom pipeline \"prep_pipeline\" \n",
        "Here are the three tasks I am performing:\n",
        "\n",
        "1. fillna: This function replaces any missing values (NaNs) in the 'review' column with an empty string.\n",
        "2. lowercase: This function converts all text in the 'review' column to lowercase.\n",
        "3. remove_stopwords: This function removes common stopwords (such as \"the\", \"and\", \"a\", etc.) from the 'review' column."
      ],
      "metadata": {
        "id": "XgD0ooWlNhJI"
      }
    },
    {
      "cell_type": "code",
      "execution_count": 69,
      "metadata": {
        "id": "K8gk8L68JCMA"
      },
      "outputs": [],
      "source": [
        "new_data['review'] = hero.clean(new_data['review'])\n",
        "new_data.head()\n",
        "\n",
        "from texthero import preprocessing\n",
        "\n",
        "prep_pipeline = [preprocessing.fillna,\n",
        "                   preprocessing.lowercase,\n",
        "                   preprocessing.remove_stopwords]\n",
        "new_data['review'] = hero.clean(new_data['review'], prep_pipeline)\n",
        "\n",
        "\n"
      ]
    },
    {
      "cell_type": "code",
      "execution_count": 70,
      "metadata": {
        "colab": {
          "base_uri": "https://localhost:8080/",
          "height": 204
        },
        "id": "GEq8nLRxTKHQ",
        "outputId": "6c3b4289-be8d-462a-89cf-d4882073e5ec"
      },
      "outputs": [
        {
          "output_type": "execute_result",
          "data": {
            "text/plain": [
              "                                              review  rating\n",
              "0  love razor like size fact use wet dry places u...       5\n",
              "1                              seem dry nails faster       3\n",
              "2                                             needed       4\n",
              "3  lotus great good potency suggestion steep swee...       5\n",
              "4  oldest son really bad eczema flares baseball s...       5"
            ],
            "text/html": [
              "\n",
              "  <div id=\"df-644107a5-6cce-4d65-9585-d8223a1f5f2b\">\n",
              "    <div class=\"colab-df-container\">\n",
              "      <div>\n",
              "<style scoped>\n",
              "    .dataframe tbody tr th:only-of-type {\n",
              "        vertical-align: middle;\n",
              "    }\n",
              "\n",
              "    .dataframe tbody tr th {\n",
              "        vertical-align: top;\n",
              "    }\n",
              "\n",
              "    .dataframe thead th {\n",
              "        text-align: right;\n",
              "    }\n",
              "</style>\n",
              "<table border=\"1\" class=\"dataframe\">\n",
              "  <thead>\n",
              "    <tr style=\"text-align: right;\">\n",
              "      <th></th>\n",
              "      <th>review</th>\n",
              "      <th>rating</th>\n",
              "    </tr>\n",
              "  </thead>\n",
              "  <tbody>\n",
              "    <tr>\n",
              "      <th>0</th>\n",
              "      <td>love razor like size fact use wet dry places u...</td>\n",
              "      <td>5</td>\n",
              "    </tr>\n",
              "    <tr>\n",
              "      <th>1</th>\n",
              "      <td>seem dry nails faster</td>\n",
              "      <td>3</td>\n",
              "    </tr>\n",
              "    <tr>\n",
              "      <th>2</th>\n",
              "      <td>needed</td>\n",
              "      <td>4</td>\n",
              "    </tr>\n",
              "    <tr>\n",
              "      <th>3</th>\n",
              "      <td>lotus great good potency suggestion steep swee...</td>\n",
              "      <td>5</td>\n",
              "    </tr>\n",
              "    <tr>\n",
              "      <th>4</th>\n",
              "      <td>oldest son really bad eczema flares baseball s...</td>\n",
              "      <td>5</td>\n",
              "    </tr>\n",
              "  </tbody>\n",
              "</table>\n",
              "</div>\n",
              "      <button class=\"colab-df-convert\" onclick=\"convertToInteractive('df-644107a5-6cce-4d65-9585-d8223a1f5f2b')\"\n",
              "              title=\"Convert this dataframe to an interactive table.\"\n",
              "              style=\"display:none;\">\n",
              "        \n",
              "  <svg xmlns=\"http://www.w3.org/2000/svg\" height=\"24px\"viewBox=\"0 0 24 24\"\n",
              "       width=\"24px\">\n",
              "    <path d=\"M0 0h24v24H0V0z\" fill=\"none\"/>\n",
              "    <path d=\"M18.56 5.44l.94 2.06.94-2.06 2.06-.94-2.06-.94-.94-2.06-.94 2.06-2.06.94zm-11 1L8.5 8.5l.94-2.06 2.06-.94-2.06-.94L8.5 2.5l-.94 2.06-2.06.94zm10 10l.94 2.06.94-2.06 2.06-.94-2.06-.94-.94-2.06-.94 2.06-2.06.94z\"/><path d=\"M17.41 7.96l-1.37-1.37c-.4-.4-.92-.59-1.43-.59-.52 0-1.04.2-1.43.59L10.3 9.45l-7.72 7.72c-.78.78-.78 2.05 0 2.83L4 21.41c.39.39.9.59 1.41.59.51 0 1.02-.2 1.41-.59l7.78-7.78 2.81-2.81c.8-.78.8-2.07 0-2.86zM5.41 20L4 18.59l7.72-7.72 1.47 1.35L5.41 20z\"/>\n",
              "  </svg>\n",
              "      </button>\n",
              "      \n",
              "  <style>\n",
              "    .colab-df-container {\n",
              "      display:flex;\n",
              "      flex-wrap:wrap;\n",
              "      gap: 12px;\n",
              "    }\n",
              "\n",
              "    .colab-df-convert {\n",
              "      background-color: #E8F0FE;\n",
              "      border: none;\n",
              "      border-radius: 50%;\n",
              "      cursor: pointer;\n",
              "      display: none;\n",
              "      fill: #1967D2;\n",
              "      height: 32px;\n",
              "      padding: 0 0 0 0;\n",
              "      width: 32px;\n",
              "    }\n",
              "\n",
              "    .colab-df-convert:hover {\n",
              "      background-color: #E2EBFA;\n",
              "      box-shadow: 0px 1px 2px rgba(60, 64, 67, 0.3), 0px 1px 3px 1px rgba(60, 64, 67, 0.15);\n",
              "      fill: #174EA6;\n",
              "    }\n",
              "\n",
              "    [theme=dark] .colab-df-convert {\n",
              "      background-color: #3B4455;\n",
              "      fill: #D2E3FC;\n",
              "    }\n",
              "\n",
              "    [theme=dark] .colab-df-convert:hover {\n",
              "      background-color: #434B5C;\n",
              "      box-shadow: 0px 1px 3px 1px rgba(0, 0, 0, 0.15);\n",
              "      filter: drop-shadow(0px 1px 2px rgba(0, 0, 0, 0.3));\n",
              "      fill: #FFFFFF;\n",
              "    }\n",
              "  </style>\n",
              "\n",
              "      <script>\n",
              "        const buttonEl =\n",
              "          document.querySelector('#df-644107a5-6cce-4d65-9585-d8223a1f5f2b button.colab-df-convert');\n",
              "        buttonEl.style.display =\n",
              "          google.colab.kernel.accessAllowed ? 'block' : 'none';\n",
              "\n",
              "        async function convertToInteractive(key) {\n",
              "          const element = document.querySelector('#df-644107a5-6cce-4d65-9585-d8223a1f5f2b');\n",
              "          const dataTable =\n",
              "            await google.colab.kernel.invokeFunction('convertToInteractive',\n",
              "                                                     [key], {});\n",
              "          if (!dataTable) return;\n",
              "\n",
              "          const docLinkHtml = 'Like what you see? Visit the ' +\n",
              "            '<a target=\"_blank\" href=https://colab.research.google.com/notebooks/data_table.ipynb>data table notebook</a>'\n",
              "            + ' to learn more about interactive tables.';\n",
              "          element.innerHTML = '';\n",
              "          dataTable['output_type'] = 'display_data';\n",
              "          await google.colab.output.renderOutput(dataTable, element);\n",
              "          const docLink = document.createElement('div');\n",
              "          docLink.innerHTML = docLinkHtml;\n",
              "          element.appendChild(docLink);\n",
              "        }\n",
              "      </script>\n",
              "    </div>\n",
              "  </div>\n",
              "  "
            ]
          },
          "metadata": {},
          "execution_count": 70
        }
      ],
      "source": [
        "#Visualizing the data after pre-processing\n",
        "new_data.head()"
      ]
    },
    {
      "cell_type": "markdown",
      "source": [
        "**Step 03: Performing TF-IDF vectorization**\n",
        "TF-IDF (Term Frequency-Inverse Document Frequency) Vectorization is commonly conducted after the data pre-processing steps in NLP. In NLP, data pre-processing includes cleaning and transforming raw text input into a format suitable for analysis or training machine learning models."
      ],
      "metadata": {
        "id": "zimoJqntTPrz"
      }
    },
    {
      "cell_type": "code",
      "execution_count": 71,
      "metadata": {
        "id": "QrnYgMjaVJd2"
      },
      "outputs": [],
      "source": [
        "tfidf = TfidfVectorizer(max_features=5000, ngram_range=(1,3))"
      ]
    },
    {
      "cell_type": "code",
      "execution_count": 72,
      "metadata": {
        "id": "a59DJtP0VTDW"
      },
      "outputs": [],
      "source": [
        "X=tfidf.fit_transform(new_data['review'])\n",
        "Y=new_data['rating']"
      ]
    },
    {
      "cell_type": "code",
      "execution_count": 73,
      "metadata": {
        "colab": {
          "base_uri": "https://localhost:8080/"
        },
        "id": "bRlilXc3Vj3f",
        "outputId": "83b92e94-aa49-4f84-ac1a-ff019390cd08"
      },
      "outputs": [
        {
          "output_type": "execute_result",
          "data": {
            "text/plain": [
              "((10000, 5000), (10000,))"
            ]
          },
          "metadata": {},
          "execution_count": 73
        }
      ],
      "source": [
        "X.shape, Y.shape"
      ]
    },
    {
      "cell_type": "code",
      "execution_count": 74,
      "metadata": {
        "id": "2xBEsV-bVm5b"
      },
      "outputs": [],
      "source": [
        "X_train, X_test, Y_train, Y_test = train_test_split(X,Y,test_size=0.2,random_state=0)"
      ]
    },
    {
      "cell_type": "code",
      "execution_count": 75,
      "metadata": {
        "colab": {
          "base_uri": "https://localhost:8080/"
        },
        "id": "IIn4QZ56VtaG",
        "outputId": "1265c353-5755-4624-faa3-789125c03007"
      },
      "outputs": [
        {
          "output_type": "execute_result",
          "data": {
            "text/plain": [
              "(8000, 5000)"
            ]
          },
          "metadata": {},
          "execution_count": 75
        }
      ],
      "source": [
        "X_train.shape"
      ]
    },
    {
      "cell_type": "markdown",
      "source": [
        "**Step 04: Creating SVM model**\n",
        "Here, I am using LinearSVC classifier which is a type of linear support vector machine (SVM) that maximizes the margin between different classes of data in a high-dimensional feature space to learn an estimation boundary between them. Since it can handle features with high dimensions and large datasets efficiently, it is a preferred choice for text classification tasks."
      ],
      "metadata": {
        "id": "U8xDaZhnRZkd"
      }
    },
    {
      "cell_type": "markdown",
      "source": [
        "Now, I am performing regularization. In this step, I am creating a function to find out the best random state and the cross-validation score for the mode"
      ],
      "metadata": {
        "id": "MTrR21h0ucdG"
      }
    },
    {
      "cell_type": "code",
      "source": [
        "# Exploring the range of seed values \n",
        "seed_range = range(1, 10)\n",
        "\n",
        "# Initialize variables \n",
        "best_seed = None \n",
        "best_score = 0\n",
        "\n",
        "# Loop through each seed value and train the SVM model with cross-validation\n",
        "for seed in seed_range:\n",
        "    clf = SVC(kernel='linear', C=20, random_state=seed, class_weight='balanced')\n",
        "    scores = cross_val_score(clf, X, Y, cv=5)\n",
        "    mean_score = scores.mean()\n",
        "    \n",
        "    # Check if the current seed value results in a better score than the previous best\n",
        "    if mean_score > best_score:\n",
        "        best_score = mean_score\n",
        "        best_seed = seed\n",
        "\n",
        "# Display the best seed value and score\n",
        "print(\"Best seed value:\", best_seed)\n",
        "print(\"Best cross-validation score:\", best_score)"
      ],
      "metadata": {
        "colab": {
          "base_uri": "https://localhost:8080/"
        },
        "id": "K6Q1hluguTPT",
        "outputId": "4bc4263f-07b2-423d-f279-9cf3bf7da958"
      },
      "execution_count": 87,
      "outputs": [
        {
          "output_type": "stream",
          "name": "stdout",
          "text": [
            "Best seed value: 1\n",
            "Best cross-validation score: 0.5856\n"
          ]
        }
      ]
    },
    {
      "cell_type": "code",
      "execution_count": 88,
      "metadata": {
        "colab": {
          "base_uri": "https://localhost:8080/",
          "height": 74
        },
        "id": "DcFgLIMXVx0L",
        "outputId": "edc3ff91-78bd-40e9-8468-0c99fa8568a9"
      },
      "outputs": [
        {
          "output_type": "execute_result",
          "data": {
            "text/plain": [
              "SVC(C=20, class_weight='balanced', kernel='linear', random_state=1)"
            ],
            "text/html": [
              "<style>#sk-container-id-5 {color: black;background-color: white;}#sk-container-id-5 pre{padding: 0;}#sk-container-id-5 div.sk-toggleable {background-color: white;}#sk-container-id-5 label.sk-toggleable__label {cursor: pointer;display: block;width: 100%;margin-bottom: 0;padding: 0.3em;box-sizing: border-box;text-align: center;}#sk-container-id-5 label.sk-toggleable__label-arrow:before {content: \"▸\";float: left;margin-right: 0.25em;color: #696969;}#sk-container-id-5 label.sk-toggleable__label-arrow:hover:before {color: black;}#sk-container-id-5 div.sk-estimator:hover label.sk-toggleable__label-arrow:before {color: black;}#sk-container-id-5 div.sk-toggleable__content {max-height: 0;max-width: 0;overflow: hidden;text-align: left;background-color: #f0f8ff;}#sk-container-id-5 div.sk-toggleable__content pre {margin: 0.2em;color: black;border-radius: 0.25em;background-color: #f0f8ff;}#sk-container-id-5 input.sk-toggleable__control:checked~div.sk-toggleable__content {max-height: 200px;max-width: 100%;overflow: auto;}#sk-container-id-5 input.sk-toggleable__control:checked~label.sk-toggleable__label-arrow:before {content: \"▾\";}#sk-container-id-5 div.sk-estimator input.sk-toggleable__control:checked~label.sk-toggleable__label {background-color: #d4ebff;}#sk-container-id-5 div.sk-label input.sk-toggleable__control:checked~label.sk-toggleable__label {background-color: #d4ebff;}#sk-container-id-5 input.sk-hidden--visually {border: 0;clip: rect(1px 1px 1px 1px);clip: rect(1px, 1px, 1px, 1px);height: 1px;margin: -1px;overflow: hidden;padding: 0;position: absolute;width: 1px;}#sk-container-id-5 div.sk-estimator {font-family: monospace;background-color: #f0f8ff;border: 1px dotted black;border-radius: 0.25em;box-sizing: border-box;margin-bottom: 0.5em;}#sk-container-id-5 div.sk-estimator:hover {background-color: #d4ebff;}#sk-container-id-5 div.sk-parallel-item::after {content: \"\";width: 100%;border-bottom: 1px solid gray;flex-grow: 1;}#sk-container-id-5 div.sk-label:hover label.sk-toggleable__label {background-color: #d4ebff;}#sk-container-id-5 div.sk-serial::before {content: \"\";position: absolute;border-left: 1px solid gray;box-sizing: border-box;top: 0;bottom: 0;left: 50%;z-index: 0;}#sk-container-id-5 div.sk-serial {display: flex;flex-direction: column;align-items: center;background-color: white;padding-right: 0.2em;padding-left: 0.2em;position: relative;}#sk-container-id-5 div.sk-item {position: relative;z-index: 1;}#sk-container-id-5 div.sk-parallel {display: flex;align-items: stretch;justify-content: center;background-color: white;position: relative;}#sk-container-id-5 div.sk-item::before, #sk-container-id-5 div.sk-parallel-item::before {content: \"\";position: absolute;border-left: 1px solid gray;box-sizing: border-box;top: 0;bottom: 0;left: 50%;z-index: -1;}#sk-container-id-5 div.sk-parallel-item {display: flex;flex-direction: column;z-index: 1;position: relative;background-color: white;}#sk-container-id-5 div.sk-parallel-item:first-child::after {align-self: flex-end;width: 50%;}#sk-container-id-5 div.sk-parallel-item:last-child::after {align-self: flex-start;width: 50%;}#sk-container-id-5 div.sk-parallel-item:only-child::after {width: 0;}#sk-container-id-5 div.sk-dashed-wrapped {border: 1px dashed gray;margin: 0 0.4em 0.5em 0.4em;box-sizing: border-box;padding-bottom: 0.4em;background-color: white;}#sk-container-id-5 div.sk-label label {font-family: monospace;font-weight: bold;display: inline-block;line-height: 1.2em;}#sk-container-id-5 div.sk-label-container {text-align: center;}#sk-container-id-5 div.sk-container {/* jupyter's `normalize.less` sets `[hidden] { display: none; }` but bootstrap.min.css set `[hidden] { display: none !important; }` so we also need the `!important` here to be able to override the default hidden behavior on the sphinx rendered scikit-learn.org. See: https://github.com/scikit-learn/scikit-learn/issues/21755 */display: inline-block !important;position: relative;}#sk-container-id-5 div.sk-text-repr-fallback {display: none;}</style><div id=\"sk-container-id-5\" class=\"sk-top-container\"><div class=\"sk-text-repr-fallback\"><pre>SVC(C=20, class_weight=&#x27;balanced&#x27;, kernel=&#x27;linear&#x27;, random_state=1)</pre><b>In a Jupyter environment, please rerun this cell to show the HTML representation or trust the notebook. <br />On GitHub, the HTML representation is unable to render, please try loading this page with nbviewer.org.</b></div><div class=\"sk-container\" hidden><div class=\"sk-item\"><div class=\"sk-estimator sk-toggleable\"><input class=\"sk-toggleable__control sk-hidden--visually\" id=\"sk-estimator-id-5\" type=\"checkbox\" checked><label for=\"sk-estimator-id-5\" class=\"sk-toggleable__label sk-toggleable__label-arrow\">SVC</label><div class=\"sk-toggleable__content\"><pre>SVC(C=20, class_weight=&#x27;balanced&#x27;, kernel=&#x27;linear&#x27;, random_state=1)</pre></div></div></div></div></div>"
            ]
          },
          "metadata": {},
          "execution_count": 88
        }
      ],
      "source": [
        "clf= SVC(kernel='linear', C=20, random_state=1, class_weight='balanced')\n",
        "clf.fit(X_train,Y_train)"
      ]
    },
    {
      "cell_type": "code",
      "execution_count": 89,
      "metadata": {
        "id": "CRZBQzebV-lQ"
      },
      "outputs": [],
      "source": [
        "Y_pred = clf.predict(X_test)"
      ]
    },
    {
      "cell_type": "markdown",
      "source": [
        "**Step 05: Cross validation**\n",
        "Cross-validation is an important technique for evaluating a model's performance and generalization capabilities, and it can help to improve the accuracy and dependability of machine learning applications. Here, I am using K-fold cross validation. "
      ],
      "metadata": {
        "id": "AIlbXKbST5lG"
      }
    },
    {
      "cell_type": "code",
      "execution_count": 90,
      "metadata": {
        "colab": {
          "base_uri": "https://localhost:8080/"
        },
        "id": "D2k1IPQZATv_",
        "outputId": "e0ab53d0-a7be-44e0-9fd8-fa5912445ea6"
      },
      "outputs": [
        {
          "output_type": "stream",
          "name": "stdout",
          "text": [
            "Cross-validation scores: [0.5855 0.58   0.5855 0.593  0.584 ]\n",
            "Average score: 0.5856\n"
          ]
        }
      ],
      "source": [
        "#'cv'=5 meaning 5-fold cross validation\n",
        "scores = cross_val_score(clf, X, Y, cv=5)\n",
        "print(\"Cross-validation scores:\", scores)\n",
        "print(\"Average score:\", scores.mean())"
      ]
    },
    {
      "cell_type": "markdown",
      "source": [
        "**Step 06: Performance metrics**\n",
        "Evaluating a model's performance is a crucial step in the development process in machine learning since it allows us to determine how effectively the model can generalize to new, unseen data. A classification report is one method for evaluating the performance of a classification model, such as an SVM classifier."
      ],
      "metadata": {
        "id": "0oLLFza8XtIf"
      }
    },
    {
      "cell_type": "code",
      "source": [
        "#Performance metrics of the model\n",
        "print(classification_report(Y_test,Y_pred))"
      ],
      "metadata": {
        "colab": {
          "base_uri": "https://localhost:8080/"
        },
        "id": "VmMD1vHFYVGR",
        "outputId": "996d9877-5bb1-4029-b58a-ccdff39f0d80"
      },
      "execution_count": 91,
      "outputs": [
        {
          "output_type": "stream",
          "name": "stdout",
          "text": [
            "              precision    recall  f1-score   support\n",
            "\n",
            "           1       0.46      0.51      0.48       183\n",
            "           2       0.15      0.12      0.13       121\n",
            "           3       0.19      0.25      0.21       132\n",
            "           4       0.26      0.26      0.26       292\n",
            "           5       0.80      0.77      0.79      1272\n",
            "\n",
            "    accuracy                           0.60      2000\n",
            "   macro avg       0.37      0.38      0.38      2000\n",
            "weighted avg       0.61      0.60      0.60      2000\n",
            "\n"
          ]
        }
      ]
    },
    {
      "cell_type": "markdown",
      "source": [
        "**Step 07: Error analysis**\n",
        "A vital stage in the creation of a machine learning model is error analysis. The purpose of error analysis is to detect and comprehend the types of errors made by the model on the test set, and to use this knowledge to improve the model's performance. Here I am using confusion matrix for analyzing error. "
      ],
      "metadata": {
        "id": "4n1kvABUZLpr"
      }
    },
    {
      "cell_type": "code",
      "source": [
        "# Calculate confusion matrix\n",
        "cm = confusion_matrix(Y_test, Y_pred)\n",
        "#print(\"Confusion matrix:\\n\", cm)\n",
        "#Creating a table with the values of confusion matrix\n",
        "# create table headers\n",
        "headers = ['True Label','Predicted rating: 1', 'Predicted rating: 2', 'Predicted rating: 3', 'Predicted rating: 4','Predicted rating: 5']\n",
        "# creating table rows\n",
        "rows = []\n",
        "for i, row in enumerate(cm):\n",
        "    rows.append([f'Actual rating: {i+1}'] + list(row))\n",
        "\n",
        "# print confusion matrix as table\n",
        "print(\"Confusion Matrix \\n\")\n",
        "print(tabulate(rows, headers=headers))"
      ],
      "metadata": {
        "colab": {
          "base_uri": "https://localhost:8080/"
        },
        "id": "Js-qQZ8R74hu",
        "outputId": "112e3f58-daf6-42ce-c5ba-8b3b435c87c0"
      },
      "execution_count": 92,
      "outputs": [
        {
          "output_type": "stream",
          "name": "stdout",
          "text": [
            "Confusion Matrix \n",
            "\n",
            "True Label          Predicted rating: 1    Predicted rating: 2    Predicted rating: 3    Predicted rating: 4    Predicted rating: 5\n",
            "----------------  ---------------------  ---------------------  ---------------------  ---------------------  ---------------------\n",
            "Actual rating: 1                     94                     20                     16                     14                     39\n",
            "Actual rating: 2                     33                     14                     24                     18                     32\n",
            "Actual rating: 3                     20                     16                     33                     28                     35\n",
            "Actual rating: 4                     19                     16                     42                     76                    139\n",
            "Actual rating: 5                     39                     26                     60                    162                    985\n"
          ]
        }
      ]
    },
    {
      "cell_type": "markdown",
      "source": [
        "Now, I am saving the model for future use. "
      ],
      "metadata": {
        "id": "fNtZuzU6laf9"
      }
    },
    {
      "cell_type": "code",
      "source": [
        "#saving the model\n",
        "import joblib\n",
        "joblib.dump(clf, 'svm.joblib')"
      ],
      "metadata": {
        "colab": {
          "base_uri": "https://localhost:8080/"
        },
        "id": "0F_CQLFWlbYy",
        "outputId": "5c336d9d-ab6e-4da5-bd29-815a79aaebe6"
      },
      "execution_count": 97,
      "outputs": [
        {
          "output_type": "execute_result",
          "data": {
            "text/plain": [
              "['svm.joblib']"
            ]
          },
          "metadata": {},
          "execution_count": 97
        }
      ]
    },
    {
      "cell_type": "markdown",
      "source": [
        "Now, it's time to test the model with some reviews. Here I am manually testing this model with a few sample reviews to see which rating it predicts for my reviews. "
      ],
      "metadata": {
        "id": "W4UowORKk914"
      }
    },
    {
      "cell_type": "code",
      "execution_count": 94,
      "metadata": {
        "colab": {
          "base_uri": "https://localhost:8080/"
        },
        "id": "wGS5zzoyWMJR",
        "outputId": "a034f228-c189-42d9-951a-eb3e17ba7b3d"
      },
      "outputs": [
        {
          "output_type": "execute_result",
          "data": {
            "text/plain": [
              "array([2])"
            ]
          },
          "metadata": {},
          "execution_count": 94
        }
      ],
      "source": [
        "#testing with sample review\n",
        "review1 = 'I dont like it, average product nothing special.'\n",
        "vect = tfidf.transform([review1])\n",
        "clf.predict(vect)"
      ]
    },
    {
      "cell_type": "code",
      "execution_count": 95,
      "metadata": {
        "colab": {
          "base_uri": "https://localhost:8080/"
        },
        "id": "kCxY4cSZXK0b",
        "outputId": "481f960f-7e02-483d-d73c-3cb16c5cedab"
      },
      "outputs": [
        {
          "output_type": "execute_result",
          "data": {
            "text/plain": [
              "array([5])"
            ]
          },
          "metadata": {},
          "execution_count": 95
        }
      ],
      "source": [
        "review2 = 'Awsome! Will recommend to my friends.'\n",
        "vect = tfidf.transform([review2])\n",
        "clf.predict(vect)"
      ]
    },
    {
      "cell_type": "code",
      "execution_count": 96,
      "metadata": {
        "colab": {
          "base_uri": "https://localhost:8080/"
        },
        "id": "dpfmh1mkXRkK",
        "outputId": "9055ea59-b869-494e-ab84-3f27f04a5480"
      },
      "outputs": [
        {
          "output_type": "execute_result",
          "data": {
            "text/plain": [
              "array([1])"
            ]
          },
          "metadata": {},
          "execution_count": 96
        }
      ],
      "source": [
        "review3 = 'worst experience..'\n",
        "vect = tfidf.transform([review3])\n",
        "clf.predict(vect)"
      ]
    },
    {
      "cell_type": "markdown",
      "metadata": {
        "id": "xtcyfF6hJ5iP"
      },
      "source": [
        "Reference\n",
        "1. https://texthero.org/docs/getting-started\n",
        "2. https://scikit-learn.org/stable/modules/svm.html\n",
        "3. https://www.geeksforgeeks.org/classifying-data-using-support-vector-machinessvms-in-python/\n",
        "4. https://www.freecodecamp.org/news/how-to-work-and-understand-text-based-dataset-with-texthero/"
      ]
    }
  ],
  "metadata": {
    "colab": {
      "provenance": []
    },
    "kernelspec": {
      "display_name": "Python 3",
      "name": "python3"
    },
    "language_info": {
      "name": "python"
    }
  },
  "nbformat": 4,
  "nbformat_minor": 0
}